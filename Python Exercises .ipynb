{
 "cells": [
  {
   "cell_type": "markdown",
   "metadata": {
    "colab_type": "text",
    "id": "uci_W0nW16DO"
   },
   "source": [
    "# Python Exercises \n",
    "\n",
    "This exercise is to test your understanding of Python Basics. If you find this extremely challenging, then you probably need to spend some more time programming in python language. Let us Know if You need more such exercise questions."
   ]
  },
  {
   "cell_type": "markdown",
   "metadata": {
    "colab_type": "text",
    "id": "rT0mJVDN16DP"
   },
   "source": [
    "## Exercises\n",
    "\n",
    "Answer the questions or complete the tasks outlined in bold below, use the specific method described if applicable."
   ]
  },
  {
   "cell_type": "markdown",
   "metadata": {
    "colab_type": "text",
    "id": "1_PW_GxR16DQ"
   },
   "source": [
    "#### Q1. What is 7 to the power of 4?"
   ]
  },
  {
   "cell_type": "code",
   "execution_count": 1,
   "metadata": {
    "colab": {},
    "colab_type": "code",
    "id": "c43EBJii16DR",
    "outputId": "bf1bd3e7-be48-4bcd-f55e-0fea760335f8"
   },
   "outputs": [
    {
     "data": {
      "text/plain": [
       "2401"
      ]
     },
     "execution_count": 1,
     "metadata": {},
     "output_type": "execute_result"
    }
   ],
   "source": [
    "7**4\n"
   ]
  },
  {
   "cell_type": "code",
   "execution_count": 0,
   "metadata": {
    "colab": {},
    "colab_type": "code",
    "id": "MhOH2dvb16DY"
   },
   "outputs": [],
   "source": [
    "# your code here"
   ]
  },
  {
   "cell_type": "markdown",
   "metadata": {
    "colab_type": "text",
    "id": "BYn-HVBs16Da"
   },
   "source": [
    "#### Q2. Split the below string into a list:\n",
    "~~~ python\n",
    "    s = \"Hi there dad!\"\n",
    "~~~"
   ]
  },
  {
   "cell_type": "code",
   "execution_count": 0,
   "metadata": {
    "colab": {},
    "colab_type": "code",
    "id": "mlKqAjXE16Db"
   },
   "outputs": [],
   "source": [
    "s = \"Hi there dad!\""
   ]
  },
  {
   "cell_type": "code",
   "execution_count": 7,
   "metadata": {
    "colab": {},
    "colab_type": "code",
    "id": "vPio7HYL16De",
    "outputId": "4273faeb-ce12-4dcb-c1b0-ea2ac37e7a05"
   },
   "outputs": [
    {
     "name": "stdout",
     "output_type": "stream",
     "text": [
      "['hi', 'there', 'dad!']\n"
     ]
    }
   ],
   "source": [
    "s =\"hi there dad!\"\n",
    "print(s.split())\n"
   ]
  },
  {
   "cell_type": "code",
   "execution_count": 0,
   "metadata": {
    "colab": {},
    "colab_type": "code",
    "id": "nrp4FCYnOAe_"
   },
   "outputs": [],
   "source": [
    "## your code here"
   ]
  },
  {
   "cell_type": "markdown",
   "metadata": {
    "colab_type": "text",
    "id": "Ielow6nz16Dh"
   },
   "source": [
    "To read more about split(), refer [this](https://www.programiz.com/python-programming/methods/string/split)\n",
    "\n",
    "To Solve one more problem on split(), try [this](https://www.hackerrank.com/challenges/python-string-split-and-join/problem)"
   ]
  },
  {
   "cell_type": "markdown",
   "metadata": {
    "colab_type": "text",
    "id": "4ksszWh516Di"
   },
   "source": [
    "#### Q3. Given the variables:\n",
    "\n",
    "    planet = \"Earth\"\n",
    "    diameter = 12742\n",
    "\n",
    "Use .format() to print the following string:\n",
    "\n",
    "    The diameter of Earth is 12742 kilometers.\n",
    "    \n",
    "To read more about .format(), refer [this](https://realpython.com/python-string-formatting/)"
   ]
  },
  {
   "cell_type": "code",
   "execution_count": 0,
   "metadata": {
    "colab": {},
    "colab_type": "code",
    "id": "fVNmNjVa16Dj",
    "outputId": "6af3f039-4af7-47ce-a3f4-239e422c2a9a"
   },
   "outputs": [
    {
     "name": "stdout",
     "output_type": "stream",
     "text": [
      "The Diameter of Earth is 12742\n"
     ]
    }
   ],
   "source": []
  },
  {
   "cell_type": "code",
   "execution_count": 0,
   "metadata": {
    "colab": {},
    "colab_type": "code",
    "id": "UY_2wKqZOEWI"
   },
   "outputs": [],
   "source": [
    "## your code here"
   ]
  },
  {
   "cell_type": "markdown",
   "metadata": {
    "colab_type": "text",
    "id": "kpIoF_yU16Dm"
   },
   "source": [
    "#### Q4. Given this nested list, use indexing to grab the word \"hello\""
   ]
  },
  {
   "cell_type": "code",
   "execution_count": 13,
   "metadata": {
    "colab": {},
    "colab_type": "code",
    "id": "3sqhNbGs16Dn"
   },
   "outputs": [],
   "source": [
    "lst = [1,2,[3,4],[5,[100,200,['hello']],23,11],1,7]"
   ]
  },
  {
   "cell_type": "code",
   "execution_count": 14,
   "metadata": {
    "colab": {},
    "colab_type": "code",
    "id": "STF6sUQz16Dq",
    "outputId": "9b032ba4-e434-4471-e18c-50fd58647a7d"
   },
   "outputs": [
    {
     "data": {
      "text/plain": [
       "'hello'"
      ]
     },
     "execution_count": 14,
     "metadata": {},
     "output_type": "execute_result"
    }
   ],
   "source": [
    "lst[3][1][2][0]"
   ]
  },
  {
   "cell_type": "code",
   "execution_count": 0,
   "metadata": {
    "colab": {},
    "colab_type": "code",
    "id": "UFjQ473QOIAv"
   },
   "outputs": [],
   "source": [
    "## your code here"
   ]
  },
  {
   "cell_type": "markdown",
   "metadata": {
    "colab_type": "text",
    "id": "R4dhpoEi16Dt"
   },
   "source": [
    "#### Q5. Given this nested dictionary grab the word \"hello\". Be prepared, this will be annoying/tricky"
   ]
  },
  {
   "cell_type": "code",
   "execution_count": 15,
   "metadata": {
    "colab": {},
    "colab_type": "code",
    "id": "ItIdTfhR16Dt"
   },
   "outputs": [],
   "source": [
    "d = {'k1':[1,2,3,{'tricky':['oh','man','inception',{'target':[1,2,3,'hello']}]}]}"
   ]
  },
  {
   "cell_type": "code",
   "execution_count": 23,
   "metadata": {
    "colab": {},
    "colab_type": "code",
    "id": "r8af26is16Dw",
    "outputId": "b591586f-14ce-485a-b7d1-da08d0bb8957"
   },
   "outputs": [
    {
     "data": {
      "text/plain": [
       "'hello'"
      ]
     },
     "execution_count": 23,
     "metadata": {},
     "output_type": "execute_result"
    }
   ],
   "source": [
    "d['k1'][3]['tricky'][3]['target'][3]"
   ]
  },
  {
   "cell_type": "code",
   "execution_count": 0,
   "metadata": {
    "colab": {},
    "colab_type": "code",
    "id": "SQ5UqMQaOJkP"
   },
   "outputs": [],
   "source": [
    "## your code here"
   ]
  },
  {
   "cell_type": "markdown",
   "metadata": {
    "colab_type": "text",
    "id": "F0rrp1TY16D0"
   },
   "source": [
    "#### Q6. What is the main difference between a tuple and a list?"
   ]
  },
  {
   "cell_type": "code",
   "execution_count": 0,
   "metadata": {
    "colab": {},
    "colab_type": "code",
    "id": "d8TUEDzl16D0"
   },
   "outputs": [],
   "source": [
    "list is mutable and tuple is immutable"
   ]
  },
  {
   "cell_type": "markdown",
   "metadata": {
    "colab_type": "text",
    "id": "_nN_iB7316D3"
   },
   "source": [
    "#### Q7. Create a function that grabs the email website domain from a string in the form:\n",
    "\n",
    "    user@domain.com\n",
    "    \n",
    "So for example, passing \"user@domain.com\" would return: domain.com"
   ]
  },
  {
   "cell_type": "code",
   "execution_count": 1,
   "metadata": {
    "colab": {},
    "colab_type": "code",
    "id": "bAeWTulF16D4"
   },
   "outputs": [
    {
     "data": {
      "text/plain": [
       "['user', 'domain.com']"
      ]
     },
     "execution_count": 1,
     "metadata": {},
     "output_type": "execute_result"
    }
   ],
   "source": [
    "def xyz(l):\n",
    "    l1=l.split('@')\n",
    "    return l1[1]\n",
    "xyz('user@domain.com')"
   ]
  },
  {
   "cell_type": "code",
   "execution_count": 0,
   "metadata": {
    "colab": {},
    "colab_type": "code",
    "id": "b43E2flv16D8",
    "outputId": "e24da7c3-b466-4c06-a6d0-998e21eb9854"
   },
   "outputs": [
    {
     "data": {
      "text/plain": [
       "'domain.com'"
      ]
     },
     "execution_count": 11,
     "metadata": {
      "tags": []
     },
     "output_type": "execute_result"
    }
   ],
   "source": [
    "getDomain('user@domain.com')"
   ]
  },
  {
   "cell_type": "markdown",
   "metadata": {
    "colab_type": "text",
    "id": "3PUX033_16D_"
   },
   "source": [
    "#### Q8. Create a basic function that returns True if the word 'dog' is contained in the input string. \n",
    "Don't worry about edge cases like a punctuation being attached to the word dog, but do account for capitalization."
   ]
  },
  {
   "cell_type": "code",
   "execution_count": 51,
   "metadata": {
    "colab": {},
    "colab_type": "code",
    "id": "n4THk8RS16EA"
   },
   "outputs": [],
   "source": [
    "def finddog(l):\n",
    "    return 'DOG' not in l.lower().split()\n",
    "\n",
    "\n",
    "\n"
   ]
  },
  {
   "cell_type": "code",
   "execution_count": 52,
   "metadata": {
    "colab": {},
    "colab_type": "code",
    "id": "PU6clHu016ED",
    "outputId": "4905a9f3-b432-48d3-e506-0be558216401"
   },
   "outputs": [
    {
     "data": {
      "text/plain": [
       "True"
      ]
     },
     "execution_count": 52,
     "metadata": {},
     "output_type": "execute_result"
    }
   ],
   "source": [
    "finddog('Is there a DOG here?')"
   ]
  },
  {
   "cell_type": "markdown",
   "metadata": {
    "colab_type": "text",
    "id": "tgvOTQWl16EJ"
   },
   "source": [
    "#### Q9. Create a function that counts the number of times the word \"dog\" occurs in a string.\n",
    "Again ignore edge cases."
   ]
  },
  {
   "cell_type": "code",
   "execution_count": 56,
   "metadata": {
    "colab": {},
    "colab_type": "code",
    "id": "1DkEwJ0e16EN"
   },
   "outputs": [],
   "source": [
    "def countDog(l):\n",
    "    count = 0\n",
    "    for word in l.lower().split():\n",
    "        if word =='dog':\n",
    "         count += 1\n",
    "    return count    \n",
    "        \n",
    "\n"
   ]
  },
  {
   "cell_type": "code",
   "execution_count": 57,
   "metadata": {
    "colab": {},
    "colab_type": "code",
    "id": "lOYMZ6k916EX",
    "outputId": "3d3fd39d-5dc4-414b-97f0-25cef3f4ef4e"
   },
   "outputs": [
    {
     "data": {
      "text/plain": [
       "4"
      ]
     },
     "execution_count": 57,
     "metadata": {},
     "output_type": "execute_result"
    }
   ],
   "source": [
    "countDog('This dog  dog dog runs faster than the other dog dude!')"
   ]
  },
  {
   "cell_type": "markdown",
   "metadata": {
    "colab_type": "text",
    "id": "8HsuYfOv16Ed"
   },
   "source": [
    "#### Q10. Create a function to filter out words from a list that starts with the letter 's'. \n",
    "For example:\n",
    "\n",
    "    seq = ['soup','dog','salad','cat','great']\n",
    "\n",
    "**should be filtered down to:**\n",
    "\n",
    "    ['soup','salad']"
   ]
  },
  {
   "cell_type": "code",
   "execution_count": 59,
   "metadata": {
    "colab": {},
    "colab_type": "code",
    "id": "5PzvmqMa16Ee"
   },
   "outputs": [],
   "source": [
    "seq = ['soup','dog','salad','cat','great']"
   ]
  },
  {
   "cell_type": "code",
   "execution_count": 66,
   "metadata": {
    "colab": {},
    "colab_type": "code",
    "id": "Xlxjijgf16Ei"
   },
   "outputs": [
    {
     "name": "stdout",
     "output_type": "stream",
     "text": [
      "<function <lambda> at 0x0000007AC0F1F488> ['soup', 'dog', 'salad', 'cat', 'great']\n"
     ]
    }
   ],
   "source": [
    "list(filter(lambda word:word[0] == 's',seq))\n",
    "        "
   ]
  },
  {
   "cell_type": "markdown",
   "metadata": {
    "colab_type": "text",
    "id": "Cf_vRAFc16Ek"
   },
   "source": [
    "\n",
    "#### Q11. \"No ticket\", \"Small ticket\", or \"Big Ticket\".\n",
    "You are driving a little too fast, and a police officer stops you. \n",
    "\n",
    "Write a function to return one of 3 possible results: \"No ticket\", \"Small ticket\", or \"Big Ticket\".\n",
    "\n",
    "  - If your speed is 60 or less, the result is \"No Ticket\". \n",
    "  \n",
    "  - If speed is between 61 and 80 inclusive, the result is \"Small Ticket\". \n",
    "  \n",
    "  - If speed is 81 or more, the result is \"Big Ticket\". \n",
    "  \n",
    "  - Unless it is your birthday (encoded as a boolean value in the parameters of the function) -- on your birthday, your speed can be 5 higher in all cases."
   ]
  },
  {
   "cell_type": "code",
   "execution_count": 72,
   "metadata": {
    "colab": {},
    "colab_type": "code",
    "id": "2YrVHAle16El"
   },
   "outputs": [],
   "source": [
    "def caught(speed, is_bday):\n",
    "    if is_bday:\n",
    "        speeding = speed - 5\n",
    "    else:\n",
    "        speeding = speed\n",
    "    if speeding > 80:\n",
    "        return 'big ticket'\n",
    "    elif speeding > 60:\n",
    "        return 'small ticket'\n",
    "    else:\n",
    "        return 'no ticket'\n",
    "\n"
   ]
  },
  {
   "cell_type": "code",
   "execution_count": 73,
   "metadata": {
    "colab": {},
    "colab_type": "code",
    "id": "9tbfCSGG16En",
    "outputId": "3393c9e7-f13b-4f1e-a758-7ba6971b01b4",
    "scrolled": true
   },
   "outputs": [
    {
     "data": {
      "text/plain": [
       "'small ticket'"
      ]
     },
     "execution_count": 73,
     "metadata": {},
     "output_type": "execute_result"
    }
   ],
   "source": [
    "caught(81,True)"
   ]
  },
  {
   "cell_type": "code",
   "execution_count": 74,
   "metadata": {
    "colab": {},
    "colab_type": "code",
    "id": "LYND2qCZ16Er",
    "outputId": "0737b832-e98a-486d-a94d-40398d06356c"
   },
   "outputs": [
    {
     "data": {
      "text/plain": [
       "'big ticket'"
      ]
     },
     "execution_count": 74,
     "metadata": {},
     "output_type": "execute_result"
    }
   ],
   "source": [
    "caught(81,False)"
   ]
  },
  {
   "cell_type": "markdown",
   "metadata": {
    "colab_type": "text",
    "id": "G_hGTQPu16Eu"
   },
   "source": [
    "## Some More Questions ;)\n",
    "\n",
    "### Q12. The Collatz Sequence \n",
    "Write a function named <b>collatz()</b> that has one parameter named number.<br>\n",
    "<b>(a)</b> If number is even, then collatz() should print number // 2 and return this value.<br> \n",
    "<b>(b)</b> If number is odd, then collatz() should print and return 3 * number + 1.<br> \n",
    "Then write a program that lets the user type in an integer and that keeps calling collatz() on that number <b>until the function returns the value 1</b>.<br> \n",
    "(Amazingly enough, this sequence actually works for any integer—sooner or later, using this sequence, you’ll arrive at 1! Even mathematicians aren’t sure why. Your program is exploring what’s called the Collatz sequence, sometimes called “the simplest impossible math problem.”)<br>  \n",
    "\n",
    "<b>Hint:</b> An integer number is even if number % 2 == 0, and it’s odd if  number % 2 == 1.\n",
    "\n",
    "<b>Sample Output :</b> for collatz(3)\n",
    "<br>3<br> 10<br> 5<br> 16<br> 8<br> 4<br> 2<br> 1\n",
    "\n"
   ]
  },
  {
   "cell_type": "code",
   "execution_count": 0,
   "metadata": {
    "colab": {},
    "colab_type": "code",
    "id": "FCM6d-tX16Eu"
   },
   "outputs": [],
   "source": []
  },
  {
   "cell_type": "markdown",
   "metadata": {
    "colab_type": "text",
    "id": "GrtFN6UA16Ex"
   },
   "source": [
    "### Q13. Comma Code \n",
    "Write a function that takes a list value as an argument and returns a string with all the items separated by a comma and a space, with and inserted before the last item.<br>\n",
    "For example, passing the previous spam list to the function would return <b>'apples, bananas, tofu, and cats'</b>. But your function should be able to work with any list value passed to it."
   ]
  },
  {
   "cell_type": "code",
   "execution_count": 6,
   "metadata": {
    "colab": {},
    "colab_type": "code",
    "id": "qIBNAVUS16Ey",
    "outputId": "657c81d4-4479-4019-8596-9c41e30866e5"
   },
   "outputs": [
    {
     "data": {
      "text/plain": [
       "['apples', 'bananas', 'cats']"
      ]
     },
     "execution_count": 6,
     "metadata": {},
     "output_type": "execute_result"
    }
   ],
   "source": [
    "spam = ['apples', 'bananas', 'cats']\n",
    "\n",
    "def comma_code(arr):\n",
    "    ## Your code here \n",
    "    s=''\n",
    "    for i in range(len(arr)-1): \n",
    "     s += arr[i]+','\n",
    "    s += 'and' +arr[-1]\n",
    "    return arr\n",
    "    \n",
    "comma_code(spam)"
   ]
  },
  {
   "cell_type": "markdown",
   "metadata": {
    "colab_type": "text",
    "id": "8LzMwVzt16E6"
   },
   "source": [
    "### Q14. Character Picture Grid \n",
    "\n",
    "You can think of grid[x][y] as being the character at the x- and y- coordinates of a “picture” drawn with text characters. The (0, 0) origin will be in the upper-left corner, the x-coordinates increase going right, and w the y-coordinates increase going down.<br>\n"
   ]
  },
  {
   "cell_type": "code",
   "execution_count": 22,
   "metadata": {
    "colab": {},
    "colab_type": "code",
    "id": "-rpCIU6G16E7",
    "outputId": "643ff626-b5e9-4dfb-ae12-21a864543992"
   },
   "outputs": [
    {
     "name": "stdout",
     "output_type": "stream",
     "text": [
      "\n",
      "......"
     ]
    },
    {
     "ename": "IndexError",
     "evalue": "list index out of range",
     "output_type": "error",
     "traceback": [
      "\u001b[1;31m---------------------------------------------------------------------------\u001b[0m",
      "\u001b[1;31mIndexError\u001b[0m                                Traceback (most recent call last)",
      "\u001b[1;32m<ipython-input-22-3bf295829f98>\u001b[0m in \u001b[0;36m<module>\u001b[1;34m\u001b[0m\n\u001b[0;32m     15\u001b[0m     \u001b[0mprint\u001b[0m\u001b[1;33m(\u001b[0m\u001b[1;33m)\u001b[0m\u001b[1;33m\u001b[0m\u001b[1;33m\u001b[0m\u001b[0m\n\u001b[0;32m     16\u001b[0m     \u001b[1;32mfor\u001b[0m \u001b[0mj\u001b[0m \u001b[1;32min\u001b[0m \u001b[0mrange\u001b[0m\u001b[1;33m(\u001b[0m\u001b[0ma\u001b[0m\u001b[1;33m)\u001b[0m\u001b[1;33m:\u001b[0m\u001b[1;33m\u001b[0m\u001b[1;33m\u001b[0m\u001b[0m\n\u001b[1;32m---> 17\u001b[1;33m         \u001b[0mprint\u001b[0m\u001b[1;33m(\u001b[0m\u001b[0mgrid\u001b[0m\u001b[1;33m[\u001b[0m\u001b[0mi\u001b[0m\u001b[1;33m]\u001b[0m\u001b[1;33m[\u001b[0m\u001b[0mj\u001b[0m\u001b[1;33m]\u001b[0m\u001b[1;33m,\u001b[0m \u001b[0mend\u001b[0m\u001b[1;33m=\u001b[0m\u001b[1;34m''\u001b[0m\u001b[1;33m)\u001b[0m\u001b[1;33m\u001b[0m\u001b[1;33m\u001b[0m\u001b[0m\n\u001b[0m\u001b[0;32m     18\u001b[0m \u001b[1;33m\u001b[0m\u001b[0m\n",
      "\u001b[1;31mIndexError\u001b[0m: list index out of range"
     ]
    }
   ],
   "source": [
    "grid = [['.', '.', '.', '.', '.', '.'],       \n",
    "        ['.', 'O', 'O', '.', '.', '.'],        \n",
    "        ['O', 'O', 'O', 'O', '.', '.'],        \n",
    "        ['O', 'O', 'O', 'O', 'O', '.'],        \n",
    "        ['.', 'O', 'O', 'O', 'O', 'O'],        \n",
    "        ['O', 'O', 'O', 'O', 'O', '.'],        \n",
    "        ['O', 'O', 'O', 'O', '.', '.'],        \n",
    "        ['.', 'O', 'O', '.', '.', '.'],        \n",
    "        ['.', '.', '.', '.', '.', '.']]\n",
    "\n",
    "## Your code here\n",
    "a =len(grid)\n",
    "b =len(grid[0])\n",
    "for i in range(b):\n",
    "    print()\n",
    "    for j in range(a):\n",
    "        print(grid[i][j], end='')\n",
    " \n"
   ]
  },
  {
   "cell_type": "markdown",
   "metadata": {
    "colab_type": "text",
    "id": "6OP_yd_q16E_"
   },
   "source": [
    "### Fantasy Game Inventory\n",
    "You are creating a fantasy video game. The data structure to model the player’s inventory will be a dictionary where the keys are string values describing the item in the inventory and the value is an integer value detailing how many of that item the player has. For example, the dictionary value <b>\n",
    "~~~ python\n",
    "{'rope': 1, 'torch': 6, 'gold coin': 42, 'dagger': 1, 'arrow': 12}\n",
    "~~~\n",
    "</b> means the player has <b>1 rope, 6 torches, 42 gold coins, and so on.</b> \n",
    "\n",
    "### Q15. displayInventory()\n",
    "Write a function named <b>displayInventory()</b>\n"
   ]
  },
  {
   "cell_type": "code",
   "execution_count": 17,
   "metadata": {
    "colab": {},
    "colab_type": "code",
    "id": "yIODew2v16FA",
    "outputId": "9d2024a9-2aba-4ea0-da2b-b52771669a79",
    "scrolled": true
   },
   "outputs": [
    {
     "name": "stdout",
     "output_type": "stream",
     "text": [
      "1 rope\n",
      "6 torch\n",
      "42 gold coin\n",
      "1 dagger\n",
      "12 arrow\n"
     ]
    }
   ],
   "source": [
    "inven = {'rope': 1, 'torch': 6, 'gold coin': 42, 'dagger': 1, 'arrow': 12}\n",
    "\n",
    "def displayInventory(inventory_list):\n",
    " \n",
    " for keys,values in inventory_list.items():\n",
    "    print(values,keys)\n",
    "    \n",
    "    \n",
    "displayInventory(inven)        "
   ]
  },
  {
   "cell_type": "markdown",
   "metadata": {
    "colab_type": "text",
    "id": "v8OVTgvj16FD"
   },
   "source": [
    "### Q16.  addToInventory(inventory, addedItems)\n",
    "Write a function named <b>addToInventory(inventory, addedItems)</b>, where the <b>inventory</b> parameter is a dictionary representing the player’s inventory (like in the previous project) and the <b>addedItems</b> parameter is a list like dragonLoot.<br> The <b>addToInventory()</b> function should return a dictionary that represents the updated inventory. <br><b>Note:</b> that the addedItems list can contain multiples of the same item.<br>"
   ]
  },
  {
   "cell_type": "code",
   "execution_count": 26,
   "metadata": {
    "colab": {},
    "colab_type": "code",
    "id": "RjcMvLp-16FE",
    "outputId": "0c32e3d2-f987-4586-8258-04d9a2c1d16a"
   },
   "outputs": [
    {
     "name": "stdout",
     "output_type": "stream",
     "text": [
      "45 gold coin\n",
      "1 rope\n",
      "1 dagger\n",
      "1 dag\n",
      "1 ruby\n"
     ]
    }
   ],
   "source": [
    "def addToInventory(inventory, addedItems):    \n",
    "    ## Your code here\n",
    "    for i in addedItems:\n",
    "        if i in inventory.keys():\n",
    "            inventory[i] +=1\n",
    "        else:\n",
    "            inventory[i]=1\n",
    "    return inventory        \n",
    "\n",
    "inv = {'gold coin': 42, 'rope': 1} \n",
    "dragonLoot = ['gold coin', 'dagger','dag' ,'gold coin', 'gold coin', 'ruby'] \n",
    "inv = addToInventory(inv, dragonLoot) \n",
    "displayInventory(inv)"
   ]
  },
  {
   "cell_type": "markdown",
   "metadata": {
    "colab_type": "text",
    "id": "zW5RLzXY16FH"
   },
   "source": [
    "# Great job!"
   ]
  },
  {
   "cell_type": "code",
   "execution_count": null,
   "metadata": {},
   "outputs": [],
   "source": []
  }
 ],
 "metadata": {
  "colab": {
   "collapsed_sections": [],
   "name": "Python Exercises .ipynb",
   "provenance": [],
   "version": "0.3.2"
  },
  "kernelspec": {
   "display_name": "Python 3",
   "language": "python",
   "name": "python3"
  },
  "language_info": {
   "codemirror_mode": {
    "name": "ipython",
    "version": 3
   },
   "file_extension": ".py",
   "mimetype": "text/x-python",
   "name": "python",
   "nbconvert_exporter": "python",
   "pygments_lexer": "ipython3",
   "version": "3.7.1"
  }
 },
 "nbformat": 4,
 "nbformat_minor": 1
}
