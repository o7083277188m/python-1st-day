{
 "cells": [
  {
   "cell_type": "markdown",
   "metadata": {
    "colab_type": "text",
    "id": "O6WzUUZ2RWLB"
   },
   "source": [
    "# Introduction to Python"
   ]
  },
  {
   "cell_type": "markdown",
   "metadata": {
    "colab_type": "text",
    "heading_collapsed": true,
    "id": "mMXM7ltlRWLD"
   },
   "source": [
    "####  __<span style=\"color:brown\">Note 1</span>: Python is a case sensitive programming language__"
   ]
  },
  {
   "cell_type": "markdown",
   "metadata": {
    "colab_type": "text",
    "heading_collapsed": true,
    "id": "_ij_5A1ZRWLE"
   },
   "source": [
    "#### __<span style=\"color:brown\">Note 2</span>: Python is a loosely typed language.__\n",
    "\n",
    "#### __<span style=\"color:brown\">Note 3</span>: Python is an interpreted language typed language.__\n",
    "\n",
    "#### __<span style=\"color:brown\">Note 4</span>: Python provides no braces to indicate blocks of code for class and function definitions or flow control. Blocks of code are denoted by line indentation, which is rigidly enforced.__"
   ]
  },
  {
   "cell_type": "markdown",
   "metadata": {
    "colab_type": "text",
    "heading_collapsed": true,
    "id": "vB72686fRWLE"
   },
   "source": [
    "## Assigning values to variables"
   ]
  },
  {
   "cell_type": "markdown",
   "metadata": {
    "colab_type": "text",
    "hidden": true,
    "id": "EMfTH2X6RWLF"
   },
   "source": [
    "### (a) Single variable"
   ]
  },
  {
   "cell_type": "code",
   "execution_count": 0,
   "metadata": {
    "colab": {
     "base_uri": "https://localhost:8080/",
     "height": 34
    },
    "colab_type": "code",
    "executionInfo": {
     "elapsed": 1223,
     "status": "ok",
     "timestamp": 1564294251560,
     "user": {
      "displayName": "Pranav Uikey",
      "photoUrl": "https://lh3.googleusercontent.com/-2UX1VRAnW2U/AAAAAAAAAAI/AAAAAAAABCc/qYF-oYELKcE/s64/photo.jpg",
      "userId": "01481760179512767902"
     },
     "user_tz": -330
    },
    "hidden": true,
    "id": "efUOIJW8RWLG",
    "outputId": "e75b4b13-6b00-4f73-f244-362e51fdcc6c",
    "scrolled": true
   },
   "outputs": [
    {
     "name": "stdout",
     "output_type": "stream",
     "text": [
      "1\n"
     ]
    }
   ],
   "source": [
    "a = 1 # single value, single variable\n",
    "print(a)"
   ]
  },
  {
   "cell_type": "markdown",
   "metadata": {
    "colab_type": "text",
    "hidden": true,
    "id": "SScA5k3VRWLM"
   },
   "source": [
    "### (b) Multi variable assigment"
   ]
  },
  {
   "cell_type": "code",
   "execution_count": 0,
   "metadata": {
    "colab": {
     "base_uri": "https://localhost:8080/",
     "height": 34
    },
    "colab_type": "code",
    "executionInfo": {
     "elapsed": 1806,
     "status": "ok",
     "timestamp": 1564294252171,
     "user": {
      "displayName": "Pranav Uikey",
      "photoUrl": "https://lh3.googleusercontent.com/-2UX1VRAnW2U/AAAAAAAAAAI/AAAAAAAABCc/qYF-oYELKcE/s64/photo.jpg",
      "userId": "01481760179512767902"
     },
     "user_tz": -330
    },
    "hidden": true,
    "id": "8LEleeRxRWLN",
    "outputId": "b270f837-c532-437e-932e-0f34b72fb5a2"
   },
   "outputs": [
    {
     "name": "stdout",
     "output_type": "stream",
     "text": [
      "3 3 3\n"
     ]
    }
   ],
   "source": [
    "b = c = d = 3 # single value, multiple variables\n",
    "print(b, c, d)"
   ]
  },
  {
   "cell_type": "code",
   "execution_count": 0,
   "metadata": {
    "colab": {
     "base_uri": "https://localhost:8080/",
     "height": 34
    },
    "colab_type": "code",
    "executionInfo": {
     "elapsed": 1790,
     "status": "ok",
     "timestamp": 1564294252173,
     "user": {
      "displayName": "Pranav Uikey",
      "photoUrl": "https://lh3.googleusercontent.com/-2UX1VRAnW2U/AAAAAAAAAAI/AAAAAAAABCc/qYF-oYELKcE/s64/photo.jpg",
      "userId": "01481760179512767902"
     },
     "user_tz": -330
    },
    "hidden": true,
    "id": "LpURJyQeRWLR",
    "outputId": "86b12b13-e040-41bc-936c-c5d69c2f2018"
   },
   "outputs": [
    {
     "name": "stdout",
     "output_type": "stream",
     "text": [
      "john dime harry\n"
     ]
    }
   ],
   "source": [
    "x, y, z = 'john', 'dime', 'harry' # multiple values, multiple variables\n",
    "print(x,y,z)"
   ]
  },
  {
   "cell_type": "markdown",
   "metadata": {
    "colab_type": "text",
    "heading_collapsed": true,
    "id": "uLZ2YmJnRWLU"
   },
   "source": [
    "## Standard Data types"
   ]
  },
  {
   "cell_type": "markdown",
   "metadata": {
    "colab_type": "text",
    "hidden": true,
    "id": "SuIutqccRWLV"
   },
   "source": [
    "1. Numbers\n",
    "    - int\n",
    "    - long\n",
    "    - float\n",
    "    - complex\n",
    "2. Strings\n",
    "3. __List__\n",
    "4. __Tuples__\n",
    "5. __Dictionary__"
   ]
  },
  {
   "cell_type": "code",
   "execution_count": 0,
   "metadata": {
    "colab": {
     "base_uri": "https://localhost:8080/",
     "height": 34
    },
    "colab_type": "code",
    "executionInfo": {
     "elapsed": 1774,
     "status": "ok",
     "timestamp": 1564294252174,
     "user": {
      "displayName": "Pranav Uikey",
      "photoUrl": "https://lh3.googleusercontent.com/-2UX1VRAnW2U/AAAAAAAAAAI/AAAAAAAABCc/qYF-oYELKcE/s64/photo.jpg",
      "userId": "01481760179512767902"
     },
     "user_tz": -330
    },
    "hidden": true,
    "id": "2NTwYpcKRWLW",
    "outputId": "a16bd769-2283-4c0c-f256-51db2b6ec4f6"
   },
   "outputs": [
    {
     "name": "stdout",
     "output_type": "stream",
     "text": [
      "1 1.9\n"
     ]
    }
   ],
   "source": [
    "### Numbers ###\n",
    "n = 1 # int\n",
    "m = 1.9 # float\n",
    "print(n,m)"
   ]
  },
  {
   "cell_type": "code",
   "execution_count": 0,
   "metadata": {
    "colab": {
     "base_uri": "https://localhost:8080/",
     "height": 34
    },
    "colab_type": "code",
    "executionInfo": {
     "elapsed": 1765,
     "status": "ok",
     "timestamp": 1564294252175,
     "user": {
      "displayName": "Pranav Uikey",
      "photoUrl": "https://lh3.googleusercontent.com/-2UX1VRAnW2U/AAAAAAAAAAI/AAAAAAAABCc/qYF-oYELKcE/s64/photo.jpg",
      "userId": "01481760179512767902"
     },
     "user_tz": -330
    },
    "hidden": true,
    "id": "SnotqYKwRWLZ",
    "outputId": "36a00b02-eb4e-4b68-dfc5-2727ef11bf78"
   },
   "outputs": [
    {
     "name": "stdout",
     "output_type": "stream",
     "text": [
      "Johnljfaldsk#@$jldkfalk $54\n"
     ]
    }
   ],
   "source": [
    "### Strings ###\n",
    "a = 'Johnljfaldsk#@$jldkfalk $54'\n",
    "print(a)"
   ]
  },
  {
   "cell_type": "markdown",
   "metadata": {
    "colab_type": "text",
    "hidden": true,
    "id": "4KvfZd_pRWLd"
   },
   "source": [
    "### (a) List"
   ]
  },
  {
   "cell_type": "code",
   "execution_count": 0,
   "metadata": {
    "colab": {
     "base_uri": "https://localhost:8080/",
     "height": 34
    },
    "colab_type": "code",
    "executionInfo": {
     "elapsed": 1755,
     "status": "ok",
     "timestamp": 1564294252177,
     "user": {
      "displayName": "Pranav Uikey",
      "photoUrl": "https://lh3.googleusercontent.com/-2UX1VRAnW2U/AAAAAAAAAAI/AAAAAAAABCc/qYF-oYELKcE/s64/photo.jpg",
      "userId": "01481760179512767902"
     },
     "user_tz": -330
    },
    "hidden": true,
    "id": "uDLAnTc8RWLe",
    "outputId": "a801bc1a-038c-4831-e81d-3dbf945c3b15"
   },
   "outputs": [
    {
     "name": "stdout",
     "output_type": "stream",
     "text": [
      "[2, 4, 'johns', 32.44]\n"
     ]
    }
   ],
   "source": [
    "### Creating a list ####\n",
    "\n",
    "l = [2, 4, 'johns', 32.44] # [any standard data type seprated by ',']\n",
    "print(l)"
   ]
  },
  {
   "cell_type": "code",
   "execution_count": 0,
   "metadata": {
    "colab": {
     "base_uri": "https://localhost:8080/",
     "height": 119
    },
    "colab_type": "code",
    "executionInfo": {
     "elapsed": 1736,
     "status": "ok",
     "timestamp": 1564294252178,
     "user": {
      "displayName": "Pranav Uikey",
      "photoUrl": "https://lh3.googleusercontent.com/-2UX1VRAnW2U/AAAAAAAAAAI/AAAAAAAABCc/qYF-oYELKcE/s64/photo.jpg",
      "userId": "01481760179512767902"
     },
     "user_tz": -330
    },
    "hidden": true,
    "id": "ZlaqaQgeRWLi",
    "outputId": "c1edb0b0-139e-4150-e5df-64ee359c15d6"
   },
   "outputs": [
    {
     "name": "stdout",
     "output_type": "stream",
     "text": [
      "[2, 4, 'johns', 32.44]\n",
      "2\n",
      "[32.44]\n",
      "[2, 4, 'johns', 32.44]\n",
      "[4, 'johns', 32.44]\n",
      "[2, 'johns']\n"
     ]
    }
   ],
   "source": [
    "### accessing list elements ###\n",
    "n = l\n",
    "print(n)\n",
    "print(n[0]) # single element, list[index]\n",
    "print(n[3:]) # all the elements with index greater than or equal to 3, list[starting_index:]\n",
    "print(n[:4]) # all the elements with index less than 4, list[:last_index]\n",
    "print(n[1:4]) # all the elements starting from index 1 untill 3 , list[starting_index: last_index]\n",
    "print(n[:4:2])"
   ]
  },
  {
   "cell_type": "code",
   "execution_count": 0,
   "metadata": {
    "colab": {
     "base_uri": "https://localhost:8080/",
     "height": 34
    },
    "colab_type": "code",
    "executionInfo": {
     "elapsed": 1726,
     "status": "ok",
     "timestamp": 1564294252178,
     "user": {
      "displayName": "Pranav Uikey",
      "photoUrl": "https://lh3.googleusercontent.com/-2UX1VRAnW2U/AAAAAAAAAAI/AAAAAAAABCc/qYF-oYELKcE/s64/photo.jpg",
      "userId": "01481760179512767902"
     },
     "user_tz": -330
    },
    "hidden": true,
    "id": "VhUKcuMMRWLm",
    "outputId": "4f3711aa-9995-424a-8bc6-ee1a9702d87d"
   },
   "outputs": [
    {
     "name": "stdout",
     "output_type": "stream",
     "text": [
      "[2, 4, 1, 32.44]\n"
     ]
    }
   ],
   "source": [
    "### changing the values of the element #### \n",
    "\n",
    "n[2] = 1 \n",
    "print(n)"
   ]
  },
  {
   "cell_type": "code",
   "execution_count": 0,
   "metadata": {
    "colab": {
     "base_uri": "https://localhost:8080/",
     "height": 68
    },
    "colab_type": "code",
    "executionInfo": {
     "elapsed": 1717,
     "status": "ok",
     "timestamp": 1564294252179,
     "user": {
      "displayName": "Pranav Uikey",
      "photoUrl": "https://lh3.googleusercontent.com/-2UX1VRAnW2U/AAAAAAAAAAI/AAAAAAAABCc/qYF-oYELKcE/s64/photo.jpg",
      "userId": "01481760179512767902"
     },
     "user_tz": -330
    },
    "hidden": true,
    "id": "VSmOL0geRWLs",
    "outputId": "e58e8bea-8536-4dd8-bb45-c63697069ea2"
   },
   "outputs": [
    {
     "name": "stdout",
     "output_type": "stream",
     "text": [
      "[2, 4, 1, 32.44]\n",
      "[2, 4, 1, 32.44, 2, 4, 1, 32.44]\n",
      "[2, 4, 1, 32.44, 2, 4, 1, 32.44, 2, 4, 1, 32.44]\n"
     ]
    }
   ],
   "source": [
    "### List operations ###\n",
    "\n",
    "m = l*2 # a*n copies list a, n times \n",
    "n = l+m # a+b adds list b to list a\n",
    "print(l)\n",
    "print(m)\n",
    "print(n)"
   ]
  },
  {
   "cell_type": "markdown",
   "metadata": {
    "colab_type": "text",
    "hidden": true,
    "id": "jD2PqnqSRWLx"
   },
   "source": [
    "### (b) Tuples"
   ]
  },
  {
   "cell_type": "markdown",
   "metadata": {
    "colab_type": "text",
    "hidden": true,
    "id": "lO6My0MMRWLy"
   },
   "source": [
    "#### <span style=\"color:brown\">Note</span>: Tuples are same as list but are immutable (values cannot be updated)."
   ]
  },
  {
   "cell_type": "code",
   "execution_count": 0,
   "metadata": {
    "colab": {
     "base_uri": "https://localhost:8080/",
     "height": 51
    },
    "colab_type": "code",
    "executionInfo": {
     "elapsed": 1706,
     "status": "ok",
     "timestamp": 1564294252180,
     "user": {
      "displayName": "Pranav Uikey",
      "photoUrl": "https://lh3.googleusercontent.com/-2UX1VRAnW2U/AAAAAAAAAAI/AAAAAAAABCc/qYF-oYELKcE/s64/photo.jpg",
      "userId": "01481760179512767902"
     },
     "user_tz": -330
    },
    "hidden": true,
    "id": "qLtOVrz4RWLz",
    "outputId": "be5eb804-6a08-4a55-9326-ea70c06da3b2"
   },
   "outputs": [
    {
     "name": "stdout",
     "output_type": "stream",
     "text": [
      "(2, 4, 'john', 32.44)\n",
      "(2, 4, 1, 32.44)\n"
     ]
    }
   ],
   "source": [
    "### Creating a Tuple ###\n",
    "\n",
    "t = (2,4, 'john', 32.44)\n",
    "t2 = tuple(l)\n",
    "\n",
    "print(t)\n",
    "print(t2)"
   ]
  },
  {
   "cell_type": "code",
   "execution_count": 0,
   "metadata": {
    "colab": {
     "base_uri": "https://localhost:8080/",
     "height": 34
    },
    "colab_type": "code",
    "executionInfo": {
     "elapsed": 1698,
     "status": "ok",
     "timestamp": 1564294252181,
     "user": {
      "displayName": "Pranav Uikey",
      "photoUrl": "https://lh3.googleusercontent.com/-2UX1VRAnW2U/AAAAAAAAAAI/AAAAAAAABCc/qYF-oYELKcE/s64/photo.jpg",
      "userId": "01481760179512767902"
     },
     "user_tz": -330
    },
    "hidden": true,
    "id": "zhckr8BGRWL3",
    "outputId": "f67004cb-f49b-4fee-828e-b078e1b2b17f"
   },
   "outputs": [
    {
     "data": {
      "text/plain": [
       "('john', 32.44)"
      ]
     },
     "execution_count": 11,
     "metadata": {
      "tags": []
     },
     "output_type": "execute_result"
    }
   ],
   "source": [
    "t[2:]"
   ]
  },
  {
   "cell_type": "code",
   "execution_count": 0,
   "metadata": {
    "colab": {
     "base_uri": "https://localhost:8080/",
     "height": 182
    },
    "colab_type": "code",
    "executionInfo": {
     "elapsed": 2636,
     "status": "error",
     "timestamp": 1564294253134,
     "user": {
      "displayName": "Pranav Uikey",
      "photoUrl": "https://lh3.googleusercontent.com/-2UX1VRAnW2U/AAAAAAAAAAI/AAAAAAAABCc/qYF-oYELKcE/s64/photo.jpg",
      "userId": "01481760179512767902"
     },
     "user_tz": -330
    },
    "hidden": true,
    "id": "SDDL7mg5RWMA",
    "outputId": "c6169ecd-5ba8-4cbf-c6bd-803e66bf8c7c"
   },
   "outputs": [
    {
     "ename": "TypeError",
     "evalue": "ignored",
     "output_type": "error",
     "traceback": [
      "\u001b[0;31m---------------------------------------------------------------------------\u001b[0m",
      "\u001b[0;31mTypeError\u001b[0m                                 Traceback (most recent call last)",
      "\u001b[0;32m<ipython-input-12-f6cd38cea378>\u001b[0m in \u001b[0;36m<module>\u001b[0;34m()\u001b[0m\n\u001b[1;32m      1\u001b[0m \u001b[0;34m\u001b[0m\u001b[0m\n\u001b[0;32m----> 2\u001b[0;31m \u001b[0mt\u001b[0m\u001b[0;34m[\u001b[0m\u001b[0;36m0\u001b[0m\u001b[0;34m]\u001b[0m \u001b[0;34m=\u001b[0m \u001b[0;36m4\u001b[0m\u001b[0;34m\u001b[0m\u001b[0;34m\u001b[0m\u001b[0m\n\u001b[0m",
      "\u001b[0;31mTypeError\u001b[0m: 'tuple' object does not support item assignment"
     ]
    }
   ],
   "source": [
    "### values cannot be changed ###\n",
    "\n",
    "t[0] = 4"
   ]
  },
  {
   "cell_type": "code",
   "execution_count": 13,
   "metadata": {
    "colab": {
     "base_uri": "https://localhost:8080/",
     "height": 51
    },
    "colab_type": "code",
    "executionInfo": {
     "elapsed": 3386,
     "status": "ok",
     "timestamp": 1564294311708,
     "user": {
      "displayName": "Pranav Uikey",
      "photoUrl": "https://lh3.googleusercontent.com/-2UX1VRAnW2U/AAAAAAAAAAI/AAAAAAAABCc/qYF-oYELKcE/s64/photo.jpg",
      "userId": "01481760179512767902"
     },
     "user_tz": -330
    },
    "hidden": true,
    "id": "whLn7YKzRWME",
    "outputId": "8c70dce8-0716-4e8e-9628-61d7424a0207"
   },
   "outputs": [
    {
     "name": "stdout",
     "output_type": "stream",
     "text": [
      "(2, 4, 'john', 32.44, 2, 4, 'john', 32.44)\n",
      "(2, 4, 'john', 32.44, 2, 4, 'john', 32.44, 2, 4, 'john', 32.44)\n"
     ]
    }
   ],
   "source": [
    "### questions ###\n",
    "\n",
    "u = t*2\n",
    "v = t+u\n",
    "\n",
    "print(u)\n",
    "print(v)"
   ]
  },
  {
   "cell_type": "markdown",
   "metadata": {
    "colab_type": "text",
    "hidden": true,
    "id": "tAlb_6wLRWMH"
   },
   "source": [
    "### Questions"
   ]
  },
  {
   "cell_type": "code",
   "execution_count": 0,
   "metadata": {
    "colab": {},
    "colab_type": "code",
    "hidden": true,
    "id": "CKZ8HiaQRWMI"
   },
   "outputs": [],
   "source": [
    "a = (1,3)\n",
    "b = ['john', 'Harry', 'tom']\n",
    "c = ('new', 'Tuple', 10, 20)\n",
    "\n",
    "# Using a,b & c variables, create the following:\n",
    "# Q1. (['john', 'Harry', 'tom'], (1,3))\n",
    "# Q2. ('new', 'Tuple', (1,3))\n",
    "# Q3. ['john', (1,3), 'tom']"
   ]
  },
  {
   "cell_type": "markdown",
   "metadata": {
    "colab_type": "text",
    "hidden": true,
    "id": "2RotR6ACRWMK"
   },
   "source": [
    "Double Click Here to see the answer\n",
    "<!--\n",
    "~~~ python\n",
    "print((b,a))\n",
    "print((c[0], c[1],a))\n",
    "print([b[0], a, b[2]])\n",
    "~~~\n",
    "-->"
   ]
  },
  {
   "cell_type": "markdown",
   "metadata": {
    "colab_type": "text",
    "hidden": true,
    "id": "ZGGOtjv_RWML"
   },
   "source": [
    "### (c) Dictionary"
   ]
  },
  {
   "cell_type": "markdown",
   "metadata": {
    "colab_type": "text",
    "hidden": true,
    "id": "ioI6U9bkRWML"
   },
   "source": [
    "#### <span style=\"color:brown\">Note</span>: Dictionary in python is unordered"
   ]
  },
  {
   "cell_type": "code",
   "execution_count": 2,
   "metadata": {
    "colab": {
     "base_uri": "https://localhost:8080/",
     "height": 51
    },
    "colab_type": "code",
    "executionInfo": {
     "elapsed": 5236,
     "status": "ok",
     "timestamp": 1564294320690,
     "user": {
      "displayName": "Pranav Uikey",
      "photoUrl": "https://lh3.googleusercontent.com/-2UX1VRAnW2U/AAAAAAAAAAI/AAAAAAAABCc/qYF-oYELKcE/s64/photo.jpg",
      "userId": "01481760179512767902"
     },
     "user_tz": -330
    },
    "hidden": true,
    "id": "kPwUucb_RWMM",
    "outputId": "8f784177-ae58-4930-dd54-989eb21c418f"
   },
   "outputs": [
    {
     "name": "stdout",
     "output_type": "stream",
     "text": [
      "{'one': 1, 'two': 2, 1.33: 3, 'three': 3}\n",
      "10\n"
     ]
    }
   ],
   "source": [
    "### creating a Dictionary ###\n",
    "\n",
    "d1 = {'one': 1, 'two': 2, 1.33: 3}\n",
    "\n",
    "d1[\"three\"] = 3 # adding new key\n",
    "\n",
    "print(d1)\n",
    "d1['one'] = 10 # changing values\n",
    "print(d1['one'])\n",
    "\n"
   ]
  },
  {
   "cell_type": "code",
   "execution_count": 7,
   "metadata": {},
   "outputs": [
    {
     "data": {
      "text/plain": [
       "('one', 10)"
      ]
     },
     "execution_count": 7,
     "metadata": {},
     "output_type": "execute_result"
    }
   ],
   "source": [
    "list(d1.items())[0]"
   ]
  },
  {
   "cell_type": "code",
   "execution_count": 8,
   "metadata": {
    "colab": {
     "base_uri": "https://localhost:8080/",
     "height": 68
    },
    "colab_type": "code",
    "executionInfo": {
     "elapsed": 5804,
     "status": "ok",
     "timestamp": 1564294321259,
     "user": {
      "displayName": "Pranav Uikey",
      "photoUrl": "https://lh3.googleusercontent.com/-2UX1VRAnW2U/AAAAAAAAAAI/AAAAAAAABCc/qYF-oYELKcE/s64/photo.jpg",
      "userId": "01481760179512767902"
     },
     "user_tz": -330
    },
    "hidden": true,
    "id": "GCCt0nvvRWMP",
    "outputId": "6f08c67a-0142-4377-971d-740ef1b27b5d"
   },
   "outputs": [
    {
     "name": "stdout",
     "output_type": "stream",
     "text": [
      "dict_keys(['one', 'two', 1.33, 'three'])\n",
      "dict_values([10, 2, 3, 3])\n",
      "dict_items([('one', 10), ('two', 2), (1.33, 3), ('three', 3)])\n"
     ]
    }
   ],
   "source": [
    "### dictionary functions ###\n",
    "\n",
    "print(d1.keys())\n",
    "print(d1.values())\n",
    "print(d1.items())"
   ]
  },
  {
   "cell_type": "markdown",
   "metadata": {
    "colab_type": "text",
    "heading_collapsed": true,
    "id": "VDoZKq7jRWMT"
   },
   "source": [
    "## Type(), help() and input()\n",
    "#### (some most useful functions in python)"
   ]
  },
  {
   "cell_type": "markdown",
   "metadata": {
    "colab_type": "text",
    "hidden": true,
    "id": "HXO8pCptRWMT"
   },
   "source": [
    "### (a) type()"
   ]
  },
  {
   "cell_type": "code",
   "execution_count": 17,
   "metadata": {
    "colab": {
     "base_uri": "https://localhost:8080/",
     "height": 68
    },
    "colab_type": "code",
    "executionInfo": {
     "elapsed": 5804,
     "status": "ok",
     "timestamp": 1564294321260,
     "user": {
      "displayName": "Pranav Uikey",
      "photoUrl": "https://lh3.googleusercontent.com/-2UX1VRAnW2U/AAAAAAAAAAI/AAAAAAAABCc/qYF-oYELKcE/s64/photo.jpg",
      "userId": "01481760179512767902"
     },
     "user_tz": -330
    },
    "hidden": true,
    "id": "N79hU4kHRWMU",
    "outputId": "93ce0926-da02-437e-d1d1-20742b608d8f"
   },
   "outputs": [
    {
     "name": "stdout",
     "output_type": "stream",
     "text": [
      "<class 'str'>\n",
      "<class 'int'>\n",
      "<class 'list'>\n"
     ]
    }
   ],
   "source": [
    "# type(a) -> returns the type of 'a'\n",
    "# use PRINT() if you want to print all the outputs together, else only the last output will be printed.\n",
    "\n",
    "list1  = [1,4,4,5,5]\n",
    "print(type('karan'))\n",
    "print(type(1))\n",
    "print(type(list1))"
   ]
  },
  {
   "cell_type": "markdown",
   "metadata": {
    "colab_type": "text",
    "hidden": true,
    "id": "vwnCDS3PRWMX"
   },
   "source": [
    "### (b) help()"
   ]
  },
  {
   "cell_type": "code",
   "execution_count": 10,
   "metadata": {
    "colab": {
     "base_uri": "https://localhost:8080/",
     "height": 1000
    },
    "colab_type": "code",
    "executionInfo": {
     "elapsed": 5805,
     "status": "ok",
     "timestamp": 1564294321262,
     "user": {
      "displayName": "Pranav Uikey",
      "photoUrl": "https://lh3.googleusercontent.com/-2UX1VRAnW2U/AAAAAAAAAAI/AAAAAAAABCc/qYF-oYELKcE/s64/photo.jpg",
      "userId": "01481760179512767902"
     },
     "user_tz": -330
    },
    "hidden": true,
    "id": "QLqZfRGrRWMY",
    "outputId": "9850b414-b887-42a3-e350-5f28cbf48844"
   },
   "outputs": [
    {
     "name": "stdout",
     "output_type": "stream",
     "text": [
      "Help on class str in module builtins:\n",
      "\n",
      "class str(object)\n",
      " |  str(object='') -> str\n",
      " |  str(bytes_or_buffer[, encoding[, errors]]) -> str\n",
      " |  \n",
      " |  Create a new string object from the given object. If encoding or\n",
      " |  errors is specified, then the object must expose a data buffer\n",
      " |  that will be decoded using the given encoding and error handler.\n",
      " |  Otherwise, returns the result of object.__str__() (if defined)\n",
      " |  or repr(object).\n",
      " |  encoding defaults to sys.getdefaultencoding().\n",
      " |  errors defaults to 'strict'.\n",
      " |  \n",
      " |  Methods defined here:\n",
      " |  \n",
      " |  __add__(self, value, /)\n",
      " |      Return self+value.\n",
      " |  \n",
      " |  __contains__(self, key, /)\n",
      " |      Return key in self.\n",
      " |  \n",
      " |  __eq__(self, value, /)\n",
      " |      Return self==value.\n",
      " |  \n",
      " |  __format__(self, format_spec, /)\n",
      " |      Return a formatted version of the string as described by format_spec.\n",
      " |  \n",
      " |  __ge__(self, value, /)\n",
      " |      Return self>=value.\n",
      " |  \n",
      " |  __getattribute__(self, name, /)\n",
      " |      Return getattr(self, name).\n",
      " |  \n",
      " |  __getitem__(self, key, /)\n",
      " |      Return self[key].\n",
      " |  \n",
      " |  __getnewargs__(...)\n",
      " |  \n",
      " |  __gt__(self, value, /)\n",
      " |      Return self>value.\n",
      " |  \n",
      " |  __hash__(self, /)\n",
      " |      Return hash(self).\n",
      " |  \n",
      " |  __iter__(self, /)\n",
      " |      Implement iter(self).\n",
      " |  \n",
      " |  __le__(self, value, /)\n",
      " |      Return self<=value.\n",
      " |  \n",
      " |  __len__(self, /)\n",
      " |      Return len(self).\n",
      " |  \n",
      " |  __lt__(self, value, /)\n",
      " |      Return self<value.\n",
      " |  \n",
      " |  __mod__(self, value, /)\n",
      " |      Return self%value.\n",
      " |  \n",
      " |  __mul__(self, value, /)\n",
      " |      Return self*value.\n",
      " |  \n",
      " |  __ne__(self, value, /)\n",
      " |      Return self!=value.\n",
      " |  \n",
      " |  __repr__(self, /)\n",
      " |      Return repr(self).\n",
      " |  \n",
      " |  __rmod__(self, value, /)\n",
      " |      Return value%self.\n",
      " |  \n",
      " |  __rmul__(self, value, /)\n",
      " |      Return value*self.\n",
      " |  \n",
      " |  __sizeof__(self, /)\n",
      " |      Return the size of the string in memory, in bytes.\n",
      " |  \n",
      " |  __str__(self, /)\n",
      " |      Return str(self).\n",
      " |  \n",
      " |  capitalize(self, /)\n",
      " |      Return a capitalized version of the string.\n",
      " |      \n",
      " |      More specifically, make the first character have upper case and the rest lower\n",
      " |      case.\n",
      " |  \n",
      " |  casefold(self, /)\n",
      " |      Return a version of the string suitable for caseless comparisons.\n",
      " |  \n",
      " |  center(self, width, fillchar=' ', /)\n",
      " |      Return a centered string of length width.\n",
      " |      \n",
      " |      Padding is done using the specified fill character (default is a space).\n",
      " |  \n",
      " |  count(...)\n",
      " |      S.count(sub[, start[, end]]) -> int\n",
      " |      \n",
      " |      Return the number of non-overlapping occurrences of substring sub in\n",
      " |      string S[start:end].  Optional arguments start and end are\n",
      " |      interpreted as in slice notation.\n",
      " |  \n",
      " |  encode(self, /, encoding='utf-8', errors='strict')\n",
      " |      Encode the string using the codec registered for encoding.\n",
      " |      \n",
      " |      encoding\n",
      " |        The encoding in which to encode the string.\n",
      " |      errors\n",
      " |        The error handling scheme to use for encoding errors.\n",
      " |        The default is 'strict' meaning that encoding errors raise a\n",
      " |        UnicodeEncodeError.  Other possible values are 'ignore', 'replace' and\n",
      " |        'xmlcharrefreplace' as well as any other name registered with\n",
      " |        codecs.register_error that can handle UnicodeEncodeErrors.\n",
      " |  \n",
      " |  endswith(...)\n",
      " |      S.endswith(suffix[, start[, end]]) -> bool\n",
      " |      \n",
      " |      Return True if S ends with the specified suffix, False otherwise.\n",
      " |      With optional start, test S beginning at that position.\n",
      " |      With optional end, stop comparing S at that position.\n",
      " |      suffix can also be a tuple of strings to try.\n",
      " |  \n",
      " |  expandtabs(self, /, tabsize=8)\n",
      " |      Return a copy where all tab characters are expanded using spaces.\n",
      " |      \n",
      " |      If tabsize is not given, a tab size of 8 characters is assumed.\n",
      " |  \n",
      " |  find(...)\n",
      " |      S.find(sub[, start[, end]]) -> int\n",
      " |      \n",
      " |      Return the lowest index in S where substring sub is found,\n",
      " |      such that sub is contained within S[start:end].  Optional\n",
      " |      arguments start and end are interpreted as in slice notation.\n",
      " |      \n",
      " |      Return -1 on failure.\n",
      " |  \n",
      " |  format(...)\n",
      " |      S.format(*args, **kwargs) -> str\n",
      " |      \n",
      " |      Return a formatted version of S, using substitutions from args and kwargs.\n",
      " |      The substitutions are identified by braces ('{' and '}').\n",
      " |  \n",
      " |  format_map(...)\n",
      " |      S.format_map(mapping) -> str\n",
      " |      \n",
      " |      Return a formatted version of S, using substitutions from mapping.\n",
      " |      The substitutions are identified by braces ('{' and '}').\n",
      " |  \n",
      " |  index(...)\n",
      " |      S.index(sub[, start[, end]]) -> int\n",
      " |      \n",
      " |      Return the lowest index in S where substring sub is found, \n",
      " |      such that sub is contained within S[start:end].  Optional\n",
      " |      arguments start and end are interpreted as in slice notation.\n",
      " |      \n",
      " |      Raises ValueError when the substring is not found.\n",
      " |  \n",
      " |  isalnum(self, /)\n",
      " |      Return True if the string is an alpha-numeric string, False otherwise.\n",
      " |      \n",
      " |      A string is alpha-numeric if all characters in the string are alpha-numeric and\n",
      " |      there is at least one character in the string.\n",
      " |  \n",
      " |  isalpha(self, /)\n",
      " |      Return True if the string is an alphabetic string, False otherwise.\n",
      " |      \n",
      " |      A string is alphabetic if all characters in the string are alphabetic and there\n",
      " |      is at least one character in the string.\n",
      " |  \n",
      " |  isascii(self, /)\n",
      " |      Return True if all characters in the string are ASCII, False otherwise.\n",
      " |      \n",
      " |      ASCII characters have code points in the range U+0000-U+007F.\n",
      " |      Empty string is ASCII too.\n",
      " |  \n",
      " |  isdecimal(self, /)\n",
      " |      Return True if the string is a decimal string, False otherwise.\n",
      " |      \n",
      " |      A string is a decimal string if all characters in the string are decimal and\n",
      " |      there is at least one character in the string.\n",
      " |  \n",
      " |  isdigit(self, /)\n",
      " |      Return True if the string is a digit string, False otherwise.\n",
      " |      \n",
      " |      A string is a digit string if all characters in the string are digits and there\n",
      " |      is at least one character in the string.\n",
      " |  \n",
      " |  isidentifier(self, /)\n",
      " |      Return True if the string is a valid Python identifier, False otherwise.\n",
      " |      \n",
      " |      Use keyword.iskeyword() to test for reserved identifiers such as \"def\" and\n",
      " |      \"class\".\n",
      " |  \n",
      " |  islower(self, /)\n",
      " |      Return True if the string is a lowercase string, False otherwise.\n",
      " |      \n",
      " |      A string is lowercase if all cased characters in the string are lowercase and\n",
      " |      there is at least one cased character in the string.\n",
      " |  \n",
      " |  isnumeric(self, /)\n",
      " |      Return True if the string is a numeric string, False otherwise.\n",
      " |      \n",
      " |      A string is numeric if all characters in the string are numeric and there is at\n",
      " |      least one character in the string.\n",
      " |  \n",
      " |  isprintable(self, /)\n",
      " |      Return True if the string is printable, False otherwise.\n",
      " |      \n",
      " |      A string is printable if all of its characters are considered printable in\n",
      " |      repr() or if it is empty.\n",
      " |  \n",
      " |  isspace(self, /)\n",
      " |      Return True if the string is a whitespace string, False otherwise.\n",
      " |      \n",
      " |      A string is whitespace if all characters in the string are whitespace and there\n",
      " |      is at least one character in the string.\n",
      " |  \n",
      " |  istitle(self, /)\n",
      " |      Return True if the string is a title-cased string, False otherwise.\n",
      " |      \n",
      " |      In a title-cased string, upper- and title-case characters may only\n",
      " |      follow uncased characters and lowercase characters only cased ones.\n",
      " |  \n",
      " |  isupper(self, /)\n",
      " |      Return True if the string is an uppercase string, False otherwise.\n",
      " |      \n",
      " |      A string is uppercase if all cased characters in the string are uppercase and\n",
      " |      there is at least one cased character in the string.\n",
      " |  \n",
      " |  join(self, iterable, /)\n",
      " |      Concatenate any number of strings.\n",
      " |      \n",
      " |      The string whose method is called is inserted in between each given string.\n",
      " |      The result is returned as a new string.\n",
      " |      \n",
      " |      Example: '.'.join(['ab', 'pq', 'rs']) -> 'ab.pq.rs'\n",
      " |  \n",
      " |  ljust(self, width, fillchar=' ', /)\n",
      " |      Return a left-justified string of length width.\n",
      " |      \n",
      " |      Padding is done using the specified fill character (default is a space).\n",
      " |  \n",
      " |  lower(self, /)\n",
      " |      Return a copy of the string converted to lowercase.\n",
      " |  \n",
      " |  lstrip(self, chars=None, /)\n",
      " |      Return a copy of the string with leading whitespace removed.\n",
      " |      \n",
      " |      If chars is given and not None, remove characters in chars instead.\n",
      " |  \n",
      " |  partition(self, sep, /)\n",
      " |      Partition the string into three parts using the given separator.\n",
      " |      \n",
      " |      This will search for the separator in the string.  If the separator is found,\n",
      " |      returns a 3-tuple containing the part before the separator, the separator\n",
      " |      itself, and the part after it.\n",
      " |      \n",
      " |      If the separator is not found, returns a 3-tuple containing the original string\n",
      " |      and two empty strings.\n",
      " |  \n",
      " |  replace(self, old, new, count=-1, /)\n",
      " |      Return a copy with all occurrences of substring old replaced by new.\n",
      " |      \n",
      " |        count\n",
      " |          Maximum number of occurrences to replace.\n",
      " |          -1 (the default value) means replace all occurrences.\n",
      " |      \n",
      " |      If the optional argument count is given, only the first count occurrences are\n",
      " |      replaced.\n",
      " |  \n",
      " |  rfind(...)\n",
      " |      S.rfind(sub[, start[, end]]) -> int\n",
      " |      \n",
      " |      Return the highest index in S where substring sub is found,\n",
      " |      such that sub is contained within S[start:end].  Optional\n",
      " |      arguments start and end are interpreted as in slice notation.\n",
      " |      \n",
      " |      Return -1 on failure.\n",
      " |  \n",
      " |  rindex(...)\n",
      " |      S.rindex(sub[, start[, end]]) -> int\n",
      " |      \n",
      " |      Return the highest index in S where substring sub is found,\n",
      " |      such that sub is contained within S[start:end].  Optional\n",
      " |      arguments start and end are interpreted as in slice notation.\n",
      " |      \n",
      " |      Raises ValueError when the substring is not found.\n",
      " |  \n",
      " |  rjust(self, width, fillchar=' ', /)\n",
      " |      Return a right-justified string of length width.\n",
      " |      \n",
      " |      Padding is done using the specified fill character (default is a space).\n",
      " |  \n",
      " |  rpartition(self, sep, /)\n",
      " |      Partition the string into three parts using the given separator.\n",
      " |      \n",
      " |      This will search for the separator in the string, starting at the end. If\n",
      " |      the separator is found, returns a 3-tuple containing the part before the\n",
      " |      separator, the separator itself, and the part after it.\n",
      " |      \n",
      " |      If the separator is not found, returns a 3-tuple containing two empty strings\n",
      " |      and the original string.\n",
      " |  \n",
      " |  rsplit(self, /, sep=None, maxsplit=-1)\n",
      " |      Return a list of the words in the string, using sep as the delimiter string.\n",
      " |      \n",
      " |        sep\n",
      " |          The delimiter according which to split the string.\n",
      " |          None (the default value) means split according to any whitespace,\n",
      " |          and discard empty strings from the result.\n",
      " |        maxsplit\n",
      " |          Maximum number of splits to do.\n",
      " |          -1 (the default value) means no limit.\n",
      " |      \n",
      " |      Splits are done starting at the end of the string and working to the front.\n",
      " |  \n",
      " |  rstrip(self, chars=None, /)\n",
      " |      Return a copy of the string with trailing whitespace removed.\n",
      " |      \n",
      " |      If chars is given and not None, remove characters in chars instead.\n",
      " |  \n",
      " |  split(self, /, sep=None, maxsplit=-1)\n",
      " |      Return a list of the words in the string, using sep as the delimiter string.\n",
      " |      \n",
      " |      sep\n",
      " |        The delimiter according which to split the string.\n",
      " |        None (the default value) means split according to any whitespace,\n",
      " |        and discard empty strings from the result.\n",
      " |      maxsplit\n",
      " |        Maximum number of splits to do.\n",
      " |        -1 (the default value) means no limit.\n",
      " |  \n",
      " |  splitlines(self, /, keepends=False)\n",
      " |      Return a list of the lines in the string, breaking at line boundaries.\n",
      " |      \n",
      " |      Line breaks are not included in the resulting list unless keepends is given and\n",
      " |      true.\n",
      " |  \n",
      " |  startswith(...)\n",
      " |      S.startswith(prefix[, start[, end]]) -> bool\n",
      " |      \n",
      " |      Return True if S starts with the specified prefix, False otherwise.\n",
      " |      With optional start, test S beginning at that position.\n",
      " |      With optional end, stop comparing S at that position.\n",
      " |      prefix can also be a tuple of strings to try.\n",
      " |  \n",
      " |  strip(self, chars=None, /)\n",
      " |      Return a copy of the string with leading and trailing whitespace remove.\n",
      " |      \n",
      " |      If chars is given and not None, remove characters in chars instead.\n",
      " |  \n",
      " |  swapcase(self, /)\n",
      " |      Convert uppercase characters to lowercase and lowercase characters to uppercase.\n",
      " |  \n",
      " |  title(self, /)\n",
      " |      Return a version of the string where each word is titlecased.\n",
      " |      \n",
      " |      More specifically, words start with uppercased characters and all remaining\n",
      " |      cased characters have lower case.\n",
      " |  \n",
      " |  translate(self, table, /)\n",
      " |      Replace each character in the string using the given translation table.\n",
      " |      \n",
      " |        table\n",
      " |          Translation table, which must be a mapping of Unicode ordinals to\n",
      " |          Unicode ordinals, strings, or None.\n",
      " |      \n",
      " |      The table must implement lookup/indexing via __getitem__, for instance a\n",
      " |      dictionary or list.  If this operation raises LookupError, the character is\n",
      " |      left untouched.  Characters mapped to None are deleted.\n",
      " |  \n",
      " |  upper(self, /)\n",
      " |      Return a copy of the string converted to uppercase.\n",
      " |  \n",
      " |  zfill(self, width, /)\n",
      " |      Pad a numeric string with zeros on the left, to fill a field of the given width.\n",
      " |      \n",
      " |      The string is never truncated.\n",
      " |  \n",
      " |  ----------------------------------------------------------------------\n",
      " |  Static methods defined here:\n",
      " |  \n",
      " |  __new__(*args, **kwargs) from builtins.type\n",
      " |      Create and return a new object.  See help(type) for accurate signature.\n",
      " |  \n",
      " |  maketrans(x, y=None, z=None, /)\n",
      " |      Return a translation table usable for str.translate().\n",
      " |      \n",
      " |      If there is only one argument, it must be a dictionary mapping Unicode\n",
      " |      ordinals (integers) or characters to Unicode ordinals, strings or None.\n",
      " |      Character keys will be then converted to ordinals.\n",
      " |      If there are two arguments, they must be strings of equal length, and\n",
      " |      in the resulting dictionary, each character in x will be mapped to the\n",
      " |      character at the same position in y. If there is a third argument, it\n",
      " |      must be a string, whose characters will be mapped to None in the result.\n",
      "\n"
     ]
    }
   ],
   "source": [
    "# help(a) -> returns the class definition for 'a'\n",
    "# use PRINT() if you want to print all the outputs together, else only the last output will be printed.\n",
    "\n",
    "\n",
    "#help(str)\n",
    "# help('karan') # same as help(str)\n",
    "# help(int)\n",
    "# help(3) # same as help(int)\n",
    "# help(list)\n",
    "help(str)\n"
   ]
  },
  {
   "cell_type": "markdown",
   "metadata": {
    "colab_type": "text",
    "hidden": true,
    "id": "rtMJ3V13RWMb"
   },
   "source": [
    "### (c) input()"
   ]
  },
  {
   "cell_type": "code",
   "execution_count": 19,
   "metadata": {
    "colab": {
     "base_uri": "https://localhost:8080/",
     "height": 34
    },
    "colab_type": "code",
    "executionInfo": {
     "elapsed": 16643,
     "status": "ok",
     "timestamp": 1564294332101,
     "user": {
      "displayName": "Pranav Uikey",
      "photoUrl": "https://lh3.googleusercontent.com/-2UX1VRAnW2U/AAAAAAAAAAI/AAAAAAAABCc/qYF-oYELKcE/s64/photo.jpg",
      "userId": "01481760179512767902"
     },
     "user_tz": -330
    },
    "hidden": true,
    "id": "elmaCWSlRWMc",
    "outputId": "8f0c47fb-f3f0-4496-af36-ff13cd012c14"
   },
   "outputs": [
    {
     "name": "stdout",
     "output_type": "stream",
     "text": [
      "enter your age... please!dfgh\n"
     ]
    }
   ],
   "source": [
    "# choice = input('some string') -> the input value is stored as a STRING in 'choice'\n",
    "\n",
    "a = input('enter your age... please!')\n"
   ]
  },
  {
   "cell_type": "markdown",
   "metadata": {
    "colab_type": "text",
    "id": "63z9CkpXRWMf"
   },
   "source": [
    "## Operators"
   ]
  },
  {
   "cell_type": "markdown",
   "metadata": {
    "colab_type": "text",
    "heading_collapsed": true,
    "id": "ZGUs27X3RWMg"
   },
   "source": [
    "### (a) Arithmetic Operators"
   ]
  },
  {
   "cell_type": "code",
   "execution_count": 20,
   "metadata": {
    "colab": {
     "base_uri": "https://localhost:8080/",
     "height": 136
    },
    "colab_type": "code",
    "executionInfo": {
     "elapsed": 16644,
     "status": "ok",
     "timestamp": 1564294332103,
     "user": {
      "displayName": "Pranav Uikey",
      "photoUrl": "https://lh3.googleusercontent.com/-2UX1VRAnW2U/AAAAAAAAAAI/AAAAAAAABCc/qYF-oYELKcE/s64/photo.jpg",
      "userId": "01481760179512767902"
     },
     "user_tz": -330
    },
    "hidden": true,
    "id": "RMPcBAQSRWMi",
    "outputId": "025e5f28-63cf-4026-94cb-ae4b99cdc4a0",
    "scrolled": true
   },
   "outputs": [
    {
     "name": "stdout",
     "output_type": "stream",
     "text": [
      "additions : 16\n",
      "subtraction : 6\n",
      "multiplication : 55\n",
      "division : 2.200000\n",
      "modulus : 1\n",
      "floor division : 2\n",
      "exponent : 161051\n"
     ]
    }
   ],
   "source": [
    "n = 5\n",
    "m = 11\n",
    "\n",
    "print(f'additions : %d'%(m+n)) # addition\n",
    "print(f'subtraction : %d' % (m-n)) # subtraction\n",
    "print(f'multiplication : %d' % (m*n)) # multiplication\n",
    "print(f'division : %f' % (m/n)) # division\n",
    "print(f'modulus : %d' % (m%n)) # modulus (remainder)\n",
    "print(f'floor division : %d' % (m//n)) # floor division (quotient)\n",
    "print(f'exponent : %d' % (m**n)) # exponent"
   ]
  },
  {
   "cell_type": "code",
   "execution_count": 48,
   "metadata": {
    "colab": {
     "base_uri": "https://localhost:8080/",
     "height": 34
    },
    "colab_type": "code",
    "executionInfo": {
     "elapsed": 870,
     "status": "ok",
     "timestamp": 1564294342639,
     "user": {
      "displayName": "Pranav Uikey",
      "photoUrl": "https://lh3.googleusercontent.com/-2UX1VRAnW2U/AAAAAAAAAAI/AAAAAAAABCc/qYF-oYELKcE/s64/photo.jpg",
      "userId": "01481760179512767902"
     },
     "user_tz": -330
    },
    "hidden": true,
    "id": "Ph_LT_mvRWMl",
    "outputId": "76c38c3d-d7cf-4ad6-812a-ed152fdeaefe"
   },
   "outputs": [
    {
     "data": {
      "text/plain": [
       "'karankaran'"
      ]
     },
     "execution_count": 48,
     "metadata": {
      "tags": []
     },
     "output_type": "execute_result"
    }
   ],
   "source": [
    "'karan'*2"
   ]
  },
  {
   "cell_type": "code",
   "execution_count": 22,
   "metadata": {
    "colab": {
     "base_uri": "https://localhost:8080/",
     "height": 34
    },
    "colab_type": "code",
    "executionInfo": {
     "elapsed": 16643,
     "status": "ok",
     "timestamp": 1564294332105,
     "user": {
      "displayName": "Pranav Uikey",
      "photoUrl": "https://lh3.googleusercontent.com/-2UX1VRAnW2U/AAAAAAAAAAI/AAAAAAAABCc/qYF-oYELKcE/s64/photo.jpg",
      "userId": "01481760179512767902"
     },
     "user_tz": -330
    },
    "hidden": true,
    "id": "lPdn0xmJRWMp",
    "outputId": "0cd1fd5e-0607-4893-eca6-590da95c846e",
    "scrolled": true
   },
   "outputs": [
    {
     "data": {
      "text/plain": [
       "[1, 2, 3, 324, 324]"
      ]
     },
     "execution_count": 22,
     "metadata": {
      "tags": []
     },
     "output_type": "execute_result"
    }
   ],
   "source": [
    "[1,2,3]+[324,324]"
   ]
  },
  {
   "cell_type": "markdown",
   "metadata": {
    "colab_type": "text",
    "id": "kL5qH5VrRWMs"
   },
   "source": [
    "### (b) Logical Operators\n",
    "\n",
    "    - and -> (a and b) \n",
    "    - or -> (a or b)\n",
    "    - not -> not(a)"
   ]
  },
  {
   "cell_type": "code",
   "execution_count": 23,
   "metadata": {
    "colab": {
     "base_uri": "https://localhost:8080/",
     "height": 85
    },
    "colab_type": "code",
    "executionInfo": {
     "elapsed": 16643,
     "status": "ok",
     "timestamp": 1564294332106,
     "user": {
      "displayName": "Pranav Uikey",
      "photoUrl": "https://lh3.googleusercontent.com/-2UX1VRAnW2U/AAAAAAAAAAI/AAAAAAAABCc/qYF-oYELKcE/s64/photo.jpg",
      "userId": "01481760179512767902"
     },
     "user_tz": -330
    },
    "id": "s6VtuljVRWMt",
    "outputId": "10bdca64-09b5-4ed7-ae04-87f6a48d56e1",
    "scrolled": true
   },
   "outputs": [
    {
     "name": "stdout",
     "output_type": "stream",
     "text": [
      "False\n",
      "False\n",
      "False\n",
      "False\n"
     ]
    }
   ],
   "source": [
    "# all in-built data types are 'True'\n",
    "print(not(True))\n",
    "print(not(int))\n",
    "print(not(str))\n",
    "print(not(dict))"
   ]
  },
  {
   "cell_type": "code",
   "execution_count": 24,
   "metadata": {
    "colab": {
     "base_uri": "https://localhost:8080/",
     "height": 34
    },
    "colab_type": "code",
    "executionInfo": {
     "elapsed": 16643,
     "status": "ok",
     "timestamp": 1564294332108,
     "user": {
      "displayName": "Pranav Uikey",
      "photoUrl": "https://lh3.googleusercontent.com/-2UX1VRAnW2U/AAAAAAAAAAI/AAAAAAAABCc/qYF-oYELKcE/s64/photo.jpg",
      "userId": "01481760179512767902"
     },
     "user_tz": -330
    },
    "id": "xOMw6BRHRWMw",
    "outputId": "acc982cf-b3e5-473c-dfbf-17dee782c13b"
   },
   "outputs": [
    {
     "data": {
      "text/plain": [
       "True"
      ]
     },
     "execution_count": 24,
     "metadata": {
      "tags": []
     },
     "output_type": "execute_result"
    }
   ],
   "source": [
    "not(None)"
   ]
  },
  {
   "cell_type": "code",
   "execution_count": 25,
   "metadata": {
    "colab": {
     "base_uri": "https://localhost:8080/",
     "height": 34
    },
    "colab_type": "code",
    "executionInfo": {
     "elapsed": 16644,
     "status": "ok",
     "timestamp": 1564294332110,
     "user": {
      "displayName": "Pranav Uikey",
      "photoUrl": "https://lh3.googleusercontent.com/-2UX1VRAnW2U/AAAAAAAAAAI/AAAAAAAABCc/qYF-oYELKcE/s64/photo.jpg",
      "userId": "01481760179512767902"
     },
     "user_tz": -330
    },
    "id": "DNrSDsIpRWMz",
    "outputId": "ba6f4696-30f4-4c2a-e00b-a118ce665cda"
   },
   "outputs": [
    {
     "data": {
      "text/plain": [
       "True"
      ]
     },
     "execution_count": 25,
     "metadata": {
      "tags": []
     },
     "output_type": "execute_result"
    }
   ],
   "source": [
    "not(0)"
   ]
  },
  {
   "cell_type": "markdown",
   "metadata": {
    "colab_type": "text",
    "heading_collapsed": true,
    "id": "FVJJ4heQRWM3"
   },
   "source": [
    "### (c) Membership operators\n",
    "\n",
    "    - in\n",
    "    - not in"
   ]
  },
  {
   "cell_type": "code",
   "execution_count": 26,
   "metadata": {
    "colab": {
     "base_uri": "https://localhost:8080/",
     "height": 34
    },
    "colab_type": "code",
    "executionInfo": {
     "elapsed": 16643,
     "status": "ok",
     "timestamp": 1564294332111,
     "user": {
      "displayName": "Pranav Uikey",
      "photoUrl": "https://lh3.googleusercontent.com/-2UX1VRAnW2U/AAAAAAAAAAI/AAAAAAAABCc/qYF-oYELKcE/s64/photo.jpg",
      "userId": "01481760179512767902"
     },
     "user_tz": -330
    },
    "hidden": true,
    "id": "nLhkW9uMRWM3",
    "outputId": "5f87bb9b-61d1-46be-c0d9-f2e2c226c938"
   },
   "outputs": [
    {
     "data": {
      "text/plain": [
       "True"
      ]
     },
     "execution_count": 26,
     "metadata": {
      "tags": []
     },
     "output_type": "execute_result"
    }
   ],
   "source": [
    "7 not in [1,2,3,4,5]"
   ]
  },
  {
   "cell_type": "markdown",
   "metadata": {
    "colab_type": "text",
    "heading_collapsed": true,
    "id": "KB3mR0fiRWM7"
   },
   "source": [
    "### (d) Comparison Operators\n",
    "     (a == b) -> True, if a 'is equal to' b\n",
    "     (a != b) -> True, if a 'is not equal to' b\n",
    "     (a < b)  -> True, if a 'is less than' b\n",
    "     (a > b)  -> True, if a 'is greater than' b\n",
    "     (a <= b) -> True, if a 'is less than or equal to' b\n",
    "     (a >= b) -> True, if a 'is greater than or equal to' b"
   ]
  },
  {
   "cell_type": "markdown",
   "metadata": {
    "colab_type": "text",
    "heading_collapsed": true,
    "id": "WnUD4q_KRWM8"
   },
   "source": [
    "## Loops"
   ]
  },
  {
   "cell_type": "markdown",
   "metadata": {
    "colab_type": "text",
    "hidden": true,
    "id": "deyLpHEXRWM8"
   },
   "source": [
    "\n",
    "### Range()"
   ]
  },
  {
   "cell_type": "code",
   "execution_count": 27,
   "metadata": {
    "colab": {
     "base_uri": "https://localhost:8080/",
     "height": 34
    },
    "colab_type": "code",
    "executionInfo": {
     "elapsed": 16645,
     "status": "ok",
     "timestamp": 1564294332114,
     "user": {
      "displayName": "Pranav Uikey",
      "photoUrl": "https://lh3.googleusercontent.com/-2UX1VRAnW2U/AAAAAAAAAAI/AAAAAAAABCc/qYF-oYELKcE/s64/photo.jpg",
      "userId": "01481760179512767902"
     },
     "user_tz": -330
    },
    "hidden": true,
    "id": "nXGIEsEWRWM9",
    "outputId": "db8cc4a5-8290-4547-8387-f684365066f5"
   },
   "outputs": [
    {
     "data": {
      "text/plain": [
       "range(0, 5)"
      ]
     },
     "execution_count": 27,
     "metadata": {
      "tags": []
     },
     "output_type": "execute_result"
    }
   ],
   "source": [
    "# range(start, end, steps) -> returns a range object\n",
    "\n",
    "range(5)"
   ]
  },
  {
   "cell_type": "code",
   "execution_count": 28,
   "metadata": {
    "colab": {
     "base_uri": "https://localhost:8080/",
     "height": 34
    },
    "colab_type": "code",
    "executionInfo": {
     "elapsed": 16646,
     "status": "ok",
     "timestamp": 1564294332116,
     "user": {
      "displayName": "Pranav Uikey",
      "photoUrl": "https://lh3.googleusercontent.com/-2UX1VRAnW2U/AAAAAAAAAAI/AAAAAAAABCc/qYF-oYELKcE/s64/photo.jpg",
      "userId": "01481760179512767902"
     },
     "user_tz": -330
    },
    "hidden": true,
    "id": "BN5gbv5URWND",
    "outputId": "3efaf17f-2502-46aa-dbaa-dcfec4667aa4"
   },
   "outputs": [
    {
     "data": {
      "text/plain": [
       "[0, 1, 2, 3, 4, 5, 6, 7, 8, 9]"
      ]
     },
     "execution_count": 28,
     "metadata": {
      "tags": []
     },
     "output_type": "execute_result"
    }
   ],
   "source": [
    "# to convert the range object to a list use 'list()'\n",
    "\n",
    "list(range(10))"
   ]
  },
  {
   "cell_type": "code",
   "execution_count": 29,
   "metadata": {
    "colab": {
     "base_uri": "https://localhost:8080/",
     "height": 34
    },
    "colab_type": "code",
    "executionInfo": {
     "elapsed": 16644,
     "status": "ok",
     "timestamp": 1564294332117,
     "user": {
      "displayName": "Pranav Uikey",
      "photoUrl": "https://lh3.googleusercontent.com/-2UX1VRAnW2U/AAAAAAAAAAI/AAAAAAAABCc/qYF-oYELKcE/s64/photo.jpg",
      "userId": "01481760179512767902"
     },
     "user_tz": -330
    },
    "hidden": true,
    "id": "C5WpG08yRWNG",
    "outputId": "df43c31f-9f6d-4cea-8c16-f61d919a7597"
   },
   "outputs": [
    {
     "data": {
      "text/plain": [
       "[1, 2, 3, 4, 5, 6, 7, 8, 9, 10]"
      ]
     },
     "execution_count": 29,
     "metadata": {
      "tags": []
     },
     "output_type": "execute_result"
    }
   ],
   "source": [
    "list(range(1,11)) # steps default value is 1"
   ]
  },
  {
   "cell_type": "code",
   "execution_count": 30,
   "metadata": {
    "colab": {
     "base_uri": "https://localhost:8080/",
     "height": 34
    },
    "colab_type": "code",
    "executionInfo": {
     "elapsed": 16644,
     "status": "ok",
     "timestamp": 1564294332118,
     "user": {
      "displayName": "Pranav Uikey",
      "photoUrl": "https://lh3.googleusercontent.com/-2UX1VRAnW2U/AAAAAAAAAAI/AAAAAAAABCc/qYF-oYELKcE/s64/photo.jpg",
      "userId": "01481760179512767902"
     },
     "user_tz": -330
    },
    "hidden": true,
    "id": "7Zebhr5LRWNK",
    "outputId": "a5a9b2f7-5959-4a16-e8b7-406adab159bf"
   },
   "outputs": [
    {
     "data": {
      "text/plain": [
       "[1, 3, 5, 7, 9, 11]"
      ]
     },
     "execution_count": 30,
     "metadata": {
      "tags": []
     },
     "output_type": "execute_result"
    }
   ],
   "source": [
    "list(range(1,12,2))"
   ]
  },
  {
   "cell_type": "markdown",
   "metadata": {
    "colab_type": "text",
    "heading_collapsed": true,
    "hidden": true,
    "id": "qm62kf5SRWNy"
   },
   "source": [
    "### (a) While loop\n",
    "#### <span style=\"color:brown\">Note</span> : you must increment or decrement the condition variable to make the expression FALSE at some point "
   ]
  },
  {
   "cell_type": "code",
   "execution_count": 32,
   "metadata": {
    "colab": {
     "base_uri": "https://localhost:8080/",
     "height": 34
    },
    "colab_type": "code",
    "executionInfo": {
     "elapsed": 16645,
     "status": "ok",
     "timestamp": 1564294332122,
     "user": {
      "displayName": "Pranav Uikey",
      "photoUrl": "https://lh3.googleusercontent.com/-2UX1VRAnW2U/AAAAAAAAAAI/AAAAAAAABCc/qYF-oYELKcE/s64/photo.jpg",
      "userId": "01481760179512767902"
     },
     "user_tz": -330
    },
    "hidden": true,
    "id": "Fkoa4ZmCRWN2",
    "outputId": "76b33b90-a77a-4553-a3fe-19e3dc67dca1"
   },
   "outputs": [
    {
     "data": {
      "text/plain": [
       "[]"
      ]
     },
     "execution_count": 32,
     "metadata": {
      "tags": []
     },
     "output_type": "execute_result"
    }
   ],
   "source": [
    "a = range(5,3,2)\n",
    "list(a)   # notice that the output is an empty list"
   ]
  },
  {
   "cell_type": "markdown",
   "metadata": {
    "colab_type": "text",
    "hidden": true,
    "id": "f54u6cxPRWN1"
   },
   "source": [
    "#### <span style=\"color:brown\">Note</span> :Range is quiet smart and dont let you define infinite list. So its not possible to make infinite for loop using range(), but you have other functions to help you with it."
   ]
  },
  {
   "cell_type": "code",
   "execution_count": 31,
   "metadata": {
    "colab": {
     "base_uri": "https://localhost:8080/",
     "height": 170
    },
    "colab_type": "code",
    "executionInfo": {
     "elapsed": 16644,
     "status": "ok",
     "timestamp": 1564294332120,
     "user": {
      "displayName": "Pranav Uikey",
      "photoUrl": "https://lh3.googleusercontent.com/-2UX1VRAnW2U/AAAAAAAAAAI/AAAAAAAABCc/qYF-oYELKcE/s64/photo.jpg",
      "userId": "01481760179512767902"
     },
     "user_tz": -330
    },
    "hidden": true,
    "id": "MjjHWwu6RWNz",
    "outputId": "200d5b81-ea0f-4731-cee5-925947dcbe0a"
   },
   "outputs": [
    {
     "name": "stdout",
     "output_type": "stream",
     "text": [
      "1\n",
      "2\n",
      "3\n",
      "4\n",
      "5\n",
      "6\n",
      "7\n",
      "8\n",
      "9\n"
     ]
    }
   ],
   "source": [
    "a = 1\n",
    "while (a<10):     # while (expression/condition):\n",
    "    print(a)      # statements to be executed \n",
    "    a += 1        # incrementing the variable a"
   ]
  },
  {
   "cell_type": "markdown",
   "metadata": {
    "colab_type": "text",
    "heading_collapsed": true,
    "hidden": true,
    "id": "wXTuZLD5RWNP"
   },
   "source": [
    "### (b) For loop"
   ]
  },
  {
   "cell_type": "code",
   "execution_count": 33,
   "metadata": {
    "colab": {
     "base_uri": "https://localhost:8080/",
     "height": 187
    },
    "colab_type": "code",
    "executionInfo": {
     "elapsed": 16645,
     "status": "ok",
     "timestamp": 1564294332124,
     "user": {
      "displayName": "Pranav Uikey",
      "photoUrl": "https://lh3.googleusercontent.com/-2UX1VRAnW2U/AAAAAAAAAAI/AAAAAAAABCc/qYF-oYELKcE/s64/photo.jpg",
      "userId": "01481760179512767902"
     },
     "user_tz": -330
    },
    "hidden": true,
    "id": "VX_EfWCJRWNS",
    "outputId": "3c2c0f77-35b2-4579-ba24-5405ea2104b3"
   },
   "outputs": [
    {
     "name": "stdout",
     "output_type": "stream",
     "text": [
      "0\n",
      "1\n",
      "2\n",
      "3\n",
      "4\n",
      "5\n",
      "6\n",
      "7\n",
      "8\n",
      "9\n"
     ]
    }
   ],
   "source": [
    "# in python, for is meant to operate on iterables.\n",
    "\n",
    "for i in range(10):    # for 'element' in 'sequence' :\n",
    "    print(i)           # statements to execute"
   ]
  },
  {
   "cell_type": "code",
   "execution_count": 34,
   "metadata": {
    "colab": {
     "base_uri": "https://localhost:8080/",
     "height": 85
    },
    "colab_type": "code",
    "executionInfo": {
     "elapsed": 16644,
     "status": "ok",
     "timestamp": 1564294332125,
     "user": {
      "displayName": "Pranav Uikey",
      "photoUrl": "https://lh3.googleusercontent.com/-2UX1VRAnW2U/AAAAAAAAAAI/AAAAAAAABCc/qYF-oYELKcE/s64/photo.jpg",
      "userId": "01481760179512767902"
     },
     "user_tz": -330
    },
    "hidden": true,
    "id": "sTSPBCShRWNX",
    "outputId": "4a027133-e40f-4257-f459-9c79207c60c8"
   },
   "outputs": [
    {
     "name": "stdout",
     "output_type": "stream",
     "text": [
      "1\n",
      "5\n",
      "6\n",
      "[8, 3]\n"
     ]
    }
   ],
   "source": [
    "for i in ['1',5,6,[8,3]]:\n",
    "    print(i)"
   ]
  },
  {
   "cell_type": "code",
   "execution_count": 35,
   "metadata": {
    "colab": {
     "base_uri": "https://localhost:8080/",
     "height": 68
    },
    "colab_type": "code",
    "executionInfo": {
     "elapsed": 16644,
     "status": "ok",
     "timestamp": 1564294332127,
     "user": {
      "displayName": "Pranav Uikey",
      "photoUrl": "https://lh3.googleusercontent.com/-2UX1VRAnW2U/AAAAAAAAAAI/AAAAAAAABCc/qYF-oYELKcE/s64/photo.jpg",
      "userId": "01481760179512767902"
     },
     "user_tz": -330
    },
    "hidden": true,
    "id": "v_4uEdWERWNd",
    "outputId": "fc5e8ec8-52f6-40e6-821b-05cd523ad749"
   },
   "outputs": [
    {
     "name": "stdout",
     "output_type": "stream",
     "text": [
      "john\n",
      "(1, 3)\n",
      "tom\n"
     ]
    }
   ],
   "source": [
    "for i in ['john', (1, 3), 'tom']:\n",
    "    print(i)"
   ]
  },
  {
   "cell_type": "code",
   "execution_count": 36,
   "metadata": {
    "colab": {
     "base_uri": "https://localhost:8080/",
     "height": 527
    },
    "colab_type": "code",
    "executionInfo": {
     "elapsed": 16643,
     "status": "ok",
     "timestamp": 1564294332128,
     "user": {
      "displayName": "Pranav Uikey",
      "photoUrl": "https://lh3.googleusercontent.com/-2UX1VRAnW2U/AAAAAAAAAAI/AAAAAAAABCc/qYF-oYELKcE/s64/photo.jpg",
      "userId": "01481760179512767902"
     },
     "user_tz": -330
    },
    "id": "5QX_-7PTRWNk",
    "outputId": "92d18a0c-c4a6-4d54-80be-cfb0826b16a1"
   },
   "outputs": [
    {
     "name": "stdout",
     "output_type": "stream",
     "text": [
      "2\n",
      "shubham\n",
      "Karan\n",
      "arjun\n",
      "elon\n",
      "34\n",
      "shubham\n",
      "Karan\n",
      "arjun\n",
      "elon\n",
      "687\n",
      "shubham\n",
      "Karan\n",
      "arjun\n",
      "elon\n",
      "78\n",
      "shubham\n",
      "Karan\n",
      "arjun\n",
      "elon\n",
      "948\n",
      "shubham\n",
      "Karan\n",
      "arjun\n",
      "elon\n",
      "8.99\n",
      "shubham\n",
      "Karan\n",
      "arjun\n",
      "elon\n"
     ]
    }
   ],
   "source": [
    "# nested for loops\n",
    "list2 = [2,34, 687 ,78, 948, 8.99]\n",
    "list3 = ['shubham','Karan','arjun','elon']\n",
    "for i in list2:\n",
    "    print(i)\n",
    "    for j in list3:\n",
    "        print(j)"
   ]
  },
  {
   "cell_type": "markdown",
   "metadata": {
    "colab_type": "text",
    "heading_collapsed": true,
    "hidden": true,
    "id": "6kTpuS8yRWNr"
   },
   "source": [
    "### Question"
   ]
  },
  {
   "cell_type": "code",
   "execution_count": 37,
   "metadata": {
    "colab": {
     "base_uri": "https://localhost:8080/",
     "height": 34
    },
    "colab_type": "code",
    "executionInfo": {
     "elapsed": 17211,
     "status": "ok",
     "timestamp": 1564294332697,
     "user": {
      "displayName": "Pranav Uikey",
      "photoUrl": "https://lh3.googleusercontent.com/-2UX1VRAnW2U/AAAAAAAAAAI/AAAAAAAABCc/qYF-oYELKcE/s64/photo.jpg",
      "userId": "01481760179512767902"
     },
     "user_tz": -330
    },
    "hidden": true,
    "id": "WZiocDM7RWNs",
    "outputId": "dc560b7c-fa47-43d6-b319-6cf7bf249d14"
   },
   "outputs": [
    {
     "data": {
      "text/plain": [
       "'\\n1. *****\\n   ****\\n   ***\\n   **\\n   *\\n   \\n2. *****\\n   ****\\n   ***\\n   **\\n   *\\n   **\\n   ***\\n   ****\\n   *****\\n'"
      ]
     },
     "execution_count": 37,
     "metadata": {
      "tags": []
     },
     "output_type": "execute_result"
    }
   ],
   "source": [
    "# write for loops to make these shapes\n",
    "\"\"\"\n",
    "1. *****\n",
    "   ****\n",
    "   ***\n",
    "   **\n",
    "   *\n",
    "   \n",
    "2. *****\n",
    "   ****\n",
    "   ***\n",
    "   **\n",
    "   *\n",
    "   **\n",
    "   ***\n",
    "   ****\n",
    "   *****\n",
    "\"\"\""
   ]
  },
  {
   "cell_type": "markdown",
   "metadata": {
    "colab_type": "text",
    "id": "iX7xSsv5RWNv"
   },
   "source": [
    "Double Click here for answer 1\n",
    "<!--\n",
    "~~~ python\n",
    "a = '*'\n",
    "for i in range(5):\n",
    "    print(a*(5-i))\n",
    "~~~\n",
    "-->"
   ]
  },
  {
   "cell_type": "markdown",
   "metadata": {
    "colab_type": "text",
    "id": "dTJJa10uRWNx"
   },
   "source": [
    "Double Click here for answer 2\n",
    "<!--\n",
    "~~~ python\n",
    "a = '*'\n",
    "for i in range(5):\n",
    "    print(a*(5-i))\n",
    "for i in range(2,6):\n",
    "    print(a*i)\n",
    "~~~\n",
    "-->"
   ]
  },
  {
   "cell_type": "markdown",
   "metadata": {
    "colab_type": "text",
    "heading_collapsed": true,
    "id": "yw6KlnXQRWN5"
   },
   "source": [
    "## Decision Making"
   ]
  },
  {
   "cell_type": "markdown",
   "metadata": {
    "colab_type": "text",
    "heading_collapsed": true,
    "hidden": true,
    "id": "CuUD9AsTRWN5"
   },
   "source": [
    "### (a) if statement"
   ]
  },
  {
   "cell_type": "code",
   "execution_count": 38,
   "metadata": {
    "colab": {
     "base_uri": "https://localhost:8080/",
     "height": 34
    },
    "colab_type": "code",
    "executionInfo": {
     "elapsed": 17212,
     "status": "ok",
     "timestamp": 1564294332699,
     "user": {
      "displayName": "Pranav Uikey",
      "photoUrl": "https://lh3.googleusercontent.com/-2UX1VRAnW2U/AAAAAAAAAAI/AAAAAAAABCc/qYF-oYELKcE/s64/photo.jpg",
      "userId": "01481760179512767902"
     },
     "user_tz": -330
    },
    "hidden": true,
    "id": "aT-BMNz9RWN6",
    "outputId": "2956f793-042f-4a36-fb98-ff66caec53de"
   },
   "outputs": [
    {
     "name": "stdout",
     "output_type": "stream",
     "text": [
      "1\n"
     ]
    }
   ],
   "source": [
    "a = 1\n",
    "if (a == 1):    # if (expression/condition):\n",
    "    print(a) # statements to execute\n",
    "    "
   ]
  },
  {
   "cell_type": "markdown",
   "metadata": {
    "colab_type": "text",
    "heading_collapsed": true,
    "hidden": true,
    "id": "PJkjAffjRWN8"
   },
   "source": [
    "### (b) if - else statement"
   ]
  },
  {
   "cell_type": "code",
   "execution_count": 39,
   "metadata": {
    "colab": {
     "base_uri": "https://localhost:8080/",
     "height": 34
    },
    "colab_type": "code",
    "executionInfo": {
     "elapsed": 17212,
     "status": "ok",
     "timestamp": 1564294332700,
     "user": {
      "displayName": "Pranav Uikey",
      "photoUrl": "https://lh3.googleusercontent.com/-2UX1VRAnW2U/AAAAAAAAAAI/AAAAAAAABCc/qYF-oYELKcE/s64/photo.jpg",
      "userId": "01481760179512767902"
     },
     "user_tz": -330
    },
    "hidden": true,
    "id": "xuSaxXfhRWN9",
    "outputId": "3033f784-0490-412d-d160-52690721b0e1"
   },
   "outputs": [
    {
     "name": "stdout",
     "output_type": "stream",
     "text": [
      "False\n"
     ]
    }
   ],
   "source": [
    "a = 0\n",
    "if (a == 1):     # if (expression/condition):\n",
    "    print(True)  # statements to execute\n",
    "else:            # else:\n",
    "    print(False) # statements to execute"
   ]
  },
  {
   "cell_type": "markdown",
   "metadata": {
    "colab_type": "text",
    "heading_collapsed": true,
    "hidden": true,
    "id": "vlXNTpWCRWOB"
   },
   "source": [
    "### (c) elif statement"
   ]
  },
  {
   "cell_type": "code",
   "execution_count": 40,
   "metadata": {
    "colab": {
     "base_uri": "https://localhost:8080/",
     "height": 34
    },
    "colab_type": "code",
    "executionInfo": {
     "elapsed": 17214,
     "status": "ok",
     "timestamp": 1564294332702,
     "user": {
      "displayName": "Pranav Uikey",
      "photoUrl": "https://lh3.googleusercontent.com/-2UX1VRAnW2U/AAAAAAAAAAI/AAAAAAAABCc/qYF-oYELKcE/s64/photo.jpg",
      "userId": "01481760179512767902"
     },
     "user_tz": -330
    },
    "hidden": true,
    "id": "l-rNymQCRWOC",
    "outputId": "d0e2960f-c58c-4524-c45a-96a785855dac"
   },
   "outputs": [
    {
     "name": "stdout",
     "output_type": "stream",
     "text": [
      "0\n"
     ]
    }
   ],
   "source": [
    "if (a == 1):\n",
    "    print(1)\n",
    "elif(a == 2):  # creates an 'else if' ladder \n",
    "    print(2)\n",
    "else:\n",
    "    print('0')"
   ]
  },
  {
   "cell_type": "markdown",
   "metadata": {
    "colab_type": "text",
    "heading_collapsed": true,
    "id": "_F41op3ARWOE"
   },
   "source": [
    "## Functions"
   ]
  },
  {
   "cell_type": "markdown",
   "metadata": {
    "colab_type": "text",
    "hidden": true,
    "id": "FB4UbkFiRWOF"
   },
   "source": [
    "~~~ python\n",
    "> def Name(parameters):\n",
    ">    statement 1\n",
    ">    statement 2\n",
    ">    ...\n",
    ">    return value\n",
    "~~~"
   ]
  },
  {
   "cell_type": "code",
   "execution_count": 0,
   "metadata": {
    "colab": {},
    "colab_type": "code",
    "hidden": true,
    "id": "Zjod11XSRWOG"
   },
   "outputs": [],
   "source": [
    "def addition(a,b):    \n",
    "    return a+b"
   ]
  },
  {
   "cell_type": "code",
   "execution_count": 42,
   "metadata": {
    "colab": {
     "base_uri": "https://localhost:8080/",
     "height": 34
    },
    "colab_type": "code",
    "executionInfo": {
     "elapsed": 17224,
     "status": "ok",
     "timestamp": 1564294332714,
     "user": {
      "displayName": "Pranav Uikey",
      "photoUrl": "https://lh3.googleusercontent.com/-2UX1VRAnW2U/AAAAAAAAAAI/AAAAAAAABCc/qYF-oYELKcE/s64/photo.jpg",
      "userId": "01481760179512767902"
     },
     "user_tz": -330
    },
    "hidden": true,
    "id": "zV0lAjrKRWOH",
    "outputId": "b22742e5-1019-49d2-dd05-b345c58e5f8f"
   },
   "outputs": [
    {
     "data": {
      "text/plain": [
       "'karanarjun'"
      ]
     },
     "execution_count": 42,
     "metadata": {
      "tags": []
     },
     "output_type": "execute_result"
    }
   ],
   "source": [
    "addition('karan','arjun')"
   ]
  },
  {
   "cell_type": "code",
   "execution_count": 43,
   "metadata": {
    "colab": {
     "base_uri": "https://localhost:8080/",
     "height": 34
    },
    "colab_type": "code",
    "executionInfo": {
     "elapsed": 17224,
     "status": "ok",
     "timestamp": 1564294332715,
     "user": {
      "displayName": "Pranav Uikey",
      "photoUrl": "https://lh3.googleusercontent.com/-2UX1VRAnW2U/AAAAAAAAAAI/AAAAAAAABCc/qYF-oYELKcE/s64/photo.jpg",
      "userId": "01481760179512767902"
     },
     "user_tz": -330
    },
    "hidden": true,
    "id": "qiKM19opRWOJ",
    "outputId": "7385cac2-55bc-4914-a09f-d8d79021a239"
   },
   "outputs": [
    {
     "data": {
      "text/plain": [
       "'1.22.2'"
      ]
     },
     "execution_count": 43,
     "metadata": {
      "tags": []
     },
     "output_type": "execute_result"
    }
   ],
   "source": [
    "addition('1.2','2.2')"
   ]
  },
  {
   "cell_type": "markdown",
   "metadata": {
    "colab_type": "text",
    "id": "5P7V9i1eRWOL"
   },
   "source": [
    "## List comprehensions \n",
    "#### (some Data Science specific syntax)"
   ]
  },
  {
   "cell_type": "markdown",
   "metadata": {
    "colab": {
     "base_uri": "https://localhost:8080/",
     "height": 34
    },
    "colab_type": "code",
    "executionInfo": {
     "elapsed": 17225,
     "status": "ok",
     "timestamp": 1564294332717,
     "user": {
      "displayName": "Pranav Uikey",
      "photoUrl": "https://lh3.googleusercontent.com/-2UX1VRAnW2U/AAAAAAAAAAI/AAAAAAAABCc/qYF-oYELKcE/s64/photo.jpg",
      "userId": "01481760179512767902"
     },
     "user_tz": -330
    },
    "id": "yCNOgYXhRWOM",
    "outputId": "cd038b63-2a14-48f7-88d7-2fa7acd1e04d"
   },
   "source": [
    "# [i forLoop(*) condition(0-1)]\n",
    "\n",
    "a = [i for i in range(11)]\n",
    "a"
   ]
  },
  {
   "cell_type": "code",
   "execution_count": 45,
   "metadata": {
    "colab": {
     "base_uri": "https://localhost:8080/",
     "height": 34
    },
    "colab_type": "code",
    "executionInfo": {
     "elapsed": 17225,
     "status": "ok",
     "timestamp": 1564294332718,
     "user": {
      "displayName": "Pranav Uikey",
      "photoUrl": "https://lh3.googleusercontent.com/-2UX1VRAnW2U/AAAAAAAAAAI/AAAAAAAABCc/qYF-oYELKcE/s64/photo.jpg",
      "userId": "01481760179512767902"
     },
     "user_tz": -330
    },
    "id": "0W0qLVLFRWOO",
    "outputId": "ae838826-df12-452b-e12a-c991d7c6c58b"
   },
   "outputs": [
    {
     "data": {
      "text/plain": [
       "[0, 2, 4, 6, 8, 10]"
      ]
     },
     "execution_count": 45,
     "metadata": {
      "tags": []
     },
     "output_type": "execute_result"
    }
   ],
   "source": [
    "# [i forloop condition]\n",
    "\n",
    "b = [i for i in range(11) if i%2 == 0]\n",
    "b"
   ]
  },
  {
   "cell_type": "code",
   "execution_count": 46,
   "metadata": {
    "colab": {
     "base_uri": "https://localhost:8080/",
     "height": 34
    },
    "colab_type": "code",
    "executionInfo": {
     "elapsed": 17228,
     "status": "ok",
     "timestamp": 1564294332722,
     "user": {
      "displayName": "Pranav Uikey",
      "photoUrl": "https://lh3.googleusercontent.com/-2UX1VRAnW2U/AAAAAAAAAAI/AAAAAAAABCc/qYF-oYELKcE/s64/photo.jpg",
      "userId": "01481760179512767902"
     },
     "user_tz": -330
    },
    "id": "ru0fK8l8RWOQ",
    "outputId": "08e6b503-fd7c-4d14-ed93-520ccb519d0f"
   },
   "outputs": [
    {
     "data": {
      "text/plain": [
       "[0, 2, 4, 6, 8, 10]"
      ]
     },
     "execution_count": 46,
     "metadata": {
      "tags": []
     },
     "output_type": "execute_result"
    }
   ],
   "source": [
    "b= []\n",
    "for i in range(11):\n",
    "    if i%2 == 0:\n",
    "        b.append(i)\n",
    "b"
   ]
  },
  {
   "cell_type": "code",
   "execution_count": 47,
   "metadata": {
    "colab": {
     "base_uri": "https://localhost:8080/",
     "height": 34
    },
    "colab_type": "code",
    "executionInfo": {
     "elapsed": 17229,
     "status": "ok",
     "timestamp": 1564294332724,
     "user": {
      "displayName": "Pranav Uikey",
      "photoUrl": "https://lh3.googleusercontent.com/-2UX1VRAnW2U/AAAAAAAAAAI/AAAAAAAABCc/qYF-oYELKcE/s64/photo.jpg",
      "userId": "01481760179512767902"
     },
     "user_tz": -330
    },
    "id": "Ni1oo9i3RWOV",
    "outputId": "23a4e91f-3fdb-45d1-b6c1-f7e8318e84e7"
   },
   "outputs": [
    {
     "data": {
      "text/plain": [
       "[2, 4, 2, 4, 6, 8, 6, 12, 4, 8, 12, 16]"
      ]
     },
     "execution_count": 47,
     "metadata": {
      "tags": []
     },
     "output_type": "execute_result"
    }
   ],
   "source": [
    "# [i forloop forloop condition]\n",
    "\n",
    "c = [i*j for i in range(5) for j in range(5) if (i*j)%2 == 0 and (i*j) != 0]\n",
    "c"
   ]
  },
  {
   "cell_type": "markdown",
   "metadata": {
    "colab_type": "text",
    "id": "r12MaPSVRWOX"
   },
   "source": [
    "### <span style=\"color:red\">Love python !!</span>"
   ]
  },
  {
   "cell_type": "code",
   "execution_count": 0,
   "metadata": {
    "colab": {},
    "colab_type": "code",
    "id": "CPAurIL71mey"
   },
   "outputs": [],
   "source": []
  }
 ],
 "metadata": {
  "colab": {
   "collapsed_sections": [
    "KB3mR0fiRWM7"
   ],
   "name": "Introduction to python.ipynb",
   "provenance": [],
   "version": "0.3.2"
  },
  "kernelspec": {
   "display_name": "Python 3",
   "language": "python",
   "name": "python3"
  },
  "language_info": {
   "codemirror_mode": {
    "name": "ipython",
    "version": 3
   },
   "file_extension": ".py",
   "mimetype": "text/x-python",
   "name": "python",
   "nbconvert_exporter": "python",
   "pygments_lexer": "ipython3",
   "version": "3.7.1"
  }
 },
 "nbformat": 4,
 "nbformat_minor": 1
}
