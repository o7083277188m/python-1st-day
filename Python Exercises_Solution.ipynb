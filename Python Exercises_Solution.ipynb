{
 "cells": [
  {
   "cell_type": "markdown",
   "metadata": {
    "colab_type": "text",
    "id": "4yH2sVAWOa0h"
   },
   "source": [
    "# Python Exercises Solution\n",
    "\n",
    "Go through the solution and know where you went wrong. Again, if you find this extremely challenging, then you probably need to spend some more time programming in python language. Let us Know if You need more such exercise questions."
   ]
  },
  {
   "cell_type": "markdown",
   "metadata": {
    "colab_type": "text",
    "id": "UUhXXUYrOa0i"
   },
   "source": [
    "## Exercises\n",
    "\n",
    "Answer the questions or complete the tasks outlined in bold below, use the specific method described if applicable."
   ]
  },
  {
   "cell_type": "markdown",
   "metadata": {
    "colab_type": "text",
    "id": "-0xUXeaVOa0j"
   },
   "source": [
    "#### Q1. What is 7 to the power of 4?"
   ]
  },
  {
   "cell_type": "code",
   "execution_count": 0,
   "metadata": {
    "colab": {},
    "colab_type": "code",
    "id": "yt8Btw3ZOa0k",
    "outputId": "336103c8-7895-4961-b484-ca316647fc82"
   },
   "outputs": [
    {
     "data": {
      "text/plain": [
       "2401"
      ]
     },
     "execution_count": 1,
     "metadata": {
      "tags": []
     },
     "output_type": "execute_result"
    }
   ],
   "source": [
    "## your code here\n",
    "7**4"
   ]
  },
  {
   "cell_type": "markdown",
   "metadata": {
    "colab_type": "text",
    "id": "M_qHMSHnOa0q"
   },
   "source": [
    "#### Q2. Split the below string into a list:\n",
    "~~~ python\n",
    "    s = \"Hi there dad!\"\n",
    "~~~"
   ]
  },
  {
   "cell_type": "code",
   "execution_count": 0,
   "metadata": {
    "colab": {},
    "colab_type": "code",
    "id": "rzYu2RrYOa0r",
    "outputId": "4110d1e9-c160-45a8-f641-e5e20232c959"
   },
   "outputs": [
    {
     "data": {
      "text/plain": [
       "['Hi', 'there', 'dad!']"
      ]
     },
     "execution_count": 1,
     "metadata": {
      "tags": []
     },
     "output_type": "execute_result"
    }
   ],
   "source": [
    "## your code here\n",
    "s = 'Hi there dad!'\n",
    "s.split()"
   ]
  },
  {
   "cell_type": "markdown",
   "metadata": {
    "colab_type": "text",
    "id": "IVhXBm_yOa0v"
   },
   "source": [
    "To read more about split(), refer [this](https://www.programiz.com/python-programming/methods/string/split)\n",
    "\n",
    "To Solve one more problem on split(), try [this](https://www.hackerrank.com/challenges/python-string-split-and-join/problem)"
   ]
  },
  {
   "cell_type": "markdown",
   "metadata": {
    "colab_type": "text",
    "id": "or47-0MGOa0v"
   },
   "source": [
    "#### Q3. Given the variables:\n",
    "\n",
    "    planet = \"Earth\"\n",
    "    diameter = 12742\n",
    "\n",
    "Use .format() to print the following string:\n",
    "\n",
    "    The diameter of Earth is 12742 kilometers.\n",
    "    \n",
    "To read more about .format(), refer [this](https://realpython.com/python-string-formatting/)"
   ]
  },
  {
   "cell_type": "code",
   "execution_count": 0,
   "metadata": {
    "colab": {},
    "colab_type": "code",
    "id": "HzHZqCXkOa0w",
    "outputId": "1f129ddc-b554-4b5b-98eb-6d8597eb23ec"
   },
   "outputs": [
    {
     "name": "stdout",
     "output_type": "stream",
     "text": [
      "The diameter of Earth is 12742 kilometers\n"
     ]
    }
   ],
   "source": [
    "## your code here\n",
    "planet = \"Earth\"\n",
    "diameter = 12742\n",
    "print('The diameter of {} is {} kilometers'.format(planet, diameter))"
   ]
  },
  {
   "cell_type": "markdown",
   "metadata": {
    "colab_type": "text",
    "id": "KqAPNKslOa00"
   },
   "source": [
    "#### Q4. Given this nested list, use indexing to grab the word \"hello\""
   ]
  },
  {
   "cell_type": "code",
   "execution_count": 1,
   "metadata": {
    "colab": {},
    "colab_type": "code",
    "id": "vIsYOlsgOa01"
   },
   "outputs": [],
   "source": [
    "lst = [1,2,[3,4],[5,[100,200,['hello','world']],23,11],1,7]"
   ]
  },
  {
   "cell_type": "code",
   "execution_count": 2,
   "metadata": {
    "colab": {},
    "colab_type": "code",
    "id": "KqfwwxkWOa04",
    "outputId": "7f5ccab3-af8f-4f93-c5c8-8a02f28620e2"
   },
   "outputs": [
    {
     "data": {
      "text/plain": [
       "'world'"
      ]
     },
     "execution_count": 2,
     "metadata": {},
     "output_type": "execute_result"
    }
   ],
   "source": [
    "## your code here\n",
    "lst[3][1][2][1]"
   ]
  },
  {
   "cell_type": "markdown",
   "metadata": {
    "colab_type": "text",
    "id": "cM1__xn_Oa07"
   },
   "source": [
    "#### Q5. Given this nested dictionary grab the word \"hello\". Be prepared, this will be annoying/tricky"
   ]
  },
  {
   "cell_type": "code",
   "execution_count": 0,
   "metadata": {
    "colab": {},
    "colab_type": "code",
    "id": "EIyxYQqSOa08"
   },
   "outputs": [],
   "source": [
    "d = {'k1':[1,2,3,{'tricky':['oh','man','inception',{'target':[1,2,3,'hello']}]}]}"
   ]
  },
  {
   "cell_type": "code",
   "execution_count": 0,
   "metadata": {
    "colab": {},
    "colab_type": "code",
    "id": "MEUYbTzyOa0_",
    "outputId": "9a67d45b-7942-4826-c564-36b3ef114a92"
   },
   "outputs": [
    {
     "data": {
      "text/plain": [
       "'hello'"
      ]
     },
     "execution_count": 9,
     "metadata": {
      "tags": []
     },
     "output_type": "execute_result"
    }
   ],
   "source": [
    "## your code here\n",
    "d['k1'][3]['tricky'][3]['target'][3]"
   ]
  },
  {
   "cell_type": "markdown",
   "metadata": {
    "colab_type": "text",
    "id": "tdlx689pOa1E"
   },
   "source": [
    "#### Q6. What is the main difference between a tuple and a list?"
   ]
  },
  {
   "cell_type": "code",
   "execution_count": 0,
   "metadata": {
    "colab": {},
    "colab_type": "code",
    "id": "_3xb9amyOa1F"
   },
   "outputs": [],
   "source": [
    "## your answer here\n",
    "## Tuples are immutable"
   ]
  },
  {
   "cell_type": "markdown",
   "metadata": {
    "colab_type": "text",
    "id": "QKx3mKoqOa1H"
   },
   "source": [
    "#### Q7. Create a function that grabs the email website domain from a string in the form:\n",
    "\n",
    "    user@domain.com\n",
    "    \n",
    "So for example, passing \"user@domain.com\" would return: domain.com"
   ]
  },
  {
   "cell_type": "code",
   "execution_count": 0,
   "metadata": {
    "colab": {},
    "colab_type": "code",
    "id": "d_-VMtuGOa1I"
   },
   "outputs": [],
   "source": [
    "## Your code here\n",
    "## define 'getDomain()' function\n",
    "def getDomain(email):\n",
    "    return email.split('@')[-1]"
   ]
  },
  {
   "cell_type": "code",
   "execution_count": 0,
   "metadata": {
    "colab": {},
    "colab_type": "code",
    "id": "bYvn4p1COa1K",
    "outputId": "1a915ac9-6e61-4d8d-b472-d3e9dec94171"
   },
   "outputs": [
    {
     "data": {
      "text/plain": [
       "'domain.com'"
      ]
     },
     "execution_count": 13,
     "metadata": {
      "tags": []
     },
     "output_type": "execute_result"
    }
   ],
   "source": [
    "getDomain('user@domain.com')"
   ]
  },
  {
   "cell_type": "markdown",
   "metadata": {
    "colab_type": "text",
    "id": "iR8F8u_rOa1N"
   },
   "source": [
    "#### Q8. Create a basic function that returns True if the word 'dog' is contained in the input string. \n",
    "Don't worry about edge cases like a punctuation being attached to the word dog, but do account for capitalization."
   ]
  },
  {
   "cell_type": "code",
   "execution_count": 0,
   "metadata": {
    "colab": {},
    "colab_type": "code",
    "id": "PoblWK_JOa1O"
   },
   "outputs": [],
   "source": [
    "## Your code here\n",
    "## define 'findDog()' function\n",
    "def findDog(st):\n",
    "    return 'dog' in st.lower().split()\n"
   ]
  },
  {
   "cell_type": "code",
   "execution_count": 0,
   "metadata": {
    "colab": {},
    "colab_type": "code",
    "id": "F4J_3iLJOa1R",
    "outputId": "3bc017a0-36fd-4286-fdd8-e17111672358"
   },
   "outputs": [
    {
     "data": {
      "text/plain": [
       "True"
      ]
     },
     "execution_count": 15,
     "metadata": {
      "tags": []
     },
     "output_type": "execute_result"
    }
   ],
   "source": [
    "findDog('Is there a dog here?')"
   ]
  },
  {
   "cell_type": "markdown",
   "metadata": {
    "colab_type": "text",
    "id": "zbg8W8VUOa1W"
   },
   "source": [
    "#### Q9. Create a function that counts the number of times the word \"dog\" occurs in a string.\n",
    "Again ignore edge cases."
   ]
  },
  {
   "cell_type": "code",
   "execution_count": 0,
   "metadata": {
    "colab": {},
    "colab_type": "code",
    "id": "lwjEJphCOa1X"
   },
   "outputs": [],
   "source": [
    "## Your code here\n",
    "## define 'countDog()' function\n",
    "def countDog(st):\n",
    "    count = 0\n",
    "    for word in st.lower().split():\n",
    "        if word == 'dog':\n",
    "            count += 1\n",
    "    return count\n"
   ]
  },
  {
   "cell_type": "code",
   "execution_count": 0,
   "metadata": {
    "colab": {},
    "colab_type": "code",
    "id": "ZacP7eWuOa1b",
    "outputId": "62d06d80-6b36-4a8d-e725-0244b6bd7db2"
   },
   "outputs": [
    {
     "data": {
      "text/plain": [
       "2"
      ]
     },
     "execution_count": 17,
     "metadata": {
      "tags": []
     },
     "output_type": "execute_result"
    }
   ],
   "source": [
    "countDog('This dog runs faster than the other dog dude!')"
   ]
  },
  {
   "cell_type": "markdown",
   "metadata": {
    "colab_type": "text",
    "id": "suWM_9ZUOa1g"
   },
   "source": [
    "#### Q10. Create a function to filter out words from a list that starts with the letter 's'. \n",
    "For example:\n",
    "\n",
    "    seq = ['soup','dog','salad','cat','great']\n",
    "\n",
    "**should be filtered down to:**\n",
    "\n",
    "    ['soup','salad']"
   ]
  },
  {
   "cell_type": "code",
   "execution_count": 0,
   "metadata": {
    "colab": {},
    "colab_type": "code",
    "id": "cGPGVzDBOa1i"
   },
   "outputs": [],
   "source": [
    "seq = ['soup','dog','salad','cat','great']"
   ]
  },
  {
   "cell_type": "code",
   "execution_count": 0,
   "metadata": {
    "colab": {},
    "colab_type": "code",
    "id": "ynNKxwlJOa1n",
    "outputId": "8a8ac1b8-f83f-4de4-a280-db9523dff836"
   },
   "outputs": [
    {
     "data": {
      "text/plain": [
       "['soup', 'salad']"
      ]
     },
     "execution_count": 19,
     "metadata": {
      "tags": []
     },
     "output_type": "execute_result"
    }
   ],
   "source": [
    "## your code here\n",
    "list(filter(lambda word: word[0]=='s',seq))"
   ]
  },
  {
   "cell_type": "markdown",
   "metadata": {
    "colab_type": "text",
    "id": "Yp9Y2BSfOa1r"
   },
   "source": [
    "\n",
    "#### Q11. \"No ticket\", \"Small ticket\", or \"Big Ticket\".\n",
    "You are driving a little too fast, and a police officer stops you. \n",
    "\n",
    "Write a function to return one of 3 possible results: \"No ticket\", \"Small ticket\", or \"Big Ticket\".\n",
    "\n",
    "  - If your speed is 60 or less, the result is \"No Ticket\". \n",
    "  \n",
    "  - If speed is between 61 and 80 inclusive, the result is \"Small Ticket\". \n",
    "  \n",
    "  - If speed is 81 or more, the result is \"Big Ticket\". \n",
    "  \n",
    "  - Unless it is your birthday (encoded as a boolean value in the parameters of the function) -- on your birthday, your speed can be 5 higher in all cases."
   ]
  },
  {
   "cell_type": "code",
   "execution_count": 0,
   "metadata": {
    "colab": {},
    "colab_type": "code",
    "id": "8VIKOt85Oa1s"
   },
   "outputs": [],
   "source": [
    "## Your code here\n",
    "## define 'caught_speeding()' function\n",
    "def caught_speeding(speed, is_birthday):\n",
    "    if is_birthday:\n",
    "        speeding = speed - 5\n",
    "    else:\n",
    "        speeding = speed\n",
    "    \n",
    "    if speeding > 80:\n",
    "        return 'Big Ticket'\n",
    "    elif speeding > 60:\n",
    "        return 'Small Ticket'\n",
    "    else:\n",
    "        return 'No Ticket'"
   ]
  },
  {
   "cell_type": "code",
   "execution_count": 0,
   "metadata": {
    "colab": {},
    "colab_type": "code",
    "id": "way7p4QfOa1w",
    "outputId": "cadde3d7-1044-4844-cb57-457e91d19b9c"
   },
   "outputs": [
    {
     "data": {
      "text/plain": [
       "'Small Ticket'"
      ]
     },
     "execution_count": 21,
     "metadata": {
      "tags": []
     },
     "output_type": "execute_result"
    }
   ],
   "source": [
    "caught_speeding(81,True)"
   ]
  },
  {
   "cell_type": "code",
   "execution_count": 0,
   "metadata": {
    "colab": {},
    "colab_type": "code",
    "id": "lYS0UGMaOa11",
    "outputId": "2d4cf8c8-6915-4c67-9c79-505f0fed1d84",
    "scrolled": true
   },
   "outputs": [
    {
     "data": {
      "text/plain": [
       "'Big Ticket'"
      ]
     },
     "execution_count": 22,
     "metadata": {
      "tags": []
     },
     "output_type": "execute_result"
    }
   ],
   "source": [
    "caught_speeding(81,False)"
   ]
  },
  {
   "cell_type": "markdown",
   "metadata": {
    "colab_type": "text",
    "id": "gpy3nbz1Oa14"
   },
   "source": [
    "## Some More Questions ;)\n",
    "\n",
    "### Q12. The Collatz Sequence \n",
    "Write a function named <b>collatz()</b> that has one parameter named number.<br>\n",
    "<b>(a)</b> If number is even, then collatz() should print number // 2 and return this value.<br> \n",
    "<b>(b)</b> If number is odd, then collatz() should print and return 3 * number + 1.<br> \n",
    "Then write a program that lets the user type in an integer and that keeps calling collatz() on that number <b>until the function returns the value 1</b>.<br> \n",
    "(Amazingly enough, this sequence actually works for any integer—sooner or later, using this sequence, you’ll arrive at 1! Even mathematicians aren’t sure why. Your program is exploring what’s called the Collatz sequence, sometimes called “the simplest impossible math problem.”)<br>  \n",
    "\n",
    "<b>Hint:</b> An integer number is even if number % 2 == 0, and it’s odd if  number % 2 == 1.\n",
    "\n",
    "<b>Sample Output :</b> for collatz(3)\n",
    "<br>3<br> 10<br> 5<br> 16<br> 8<br> 4<br> 2<br> 1\n",
    "\n"
   ]
  },
  {
   "cell_type": "code",
   "execution_count": null,
   "metadata": {
    "colab": {},
    "colab_type": "code",
    "id": "V1w2CmOhOa15",
    "outputId": "f44ce296-3da9-4235-a781-a0f5ac302ad6"
   },
   "outputs": [],
   "source": [
    "## Your code here\n",
    "def collatz(x):\n",
    "    print(x)\n",
    "    while(x!=1):\n",
    "        \n",
    "        if(x%2 ==0):\n",
    "            x = x//2\n",
    "            print(x)\n",
    "        elif(x%2 ==1):\n",
    "            x = ((x*3)+1)\n",
    "            print(x)\n",
    "        \n",
    "collatz(5)"
   ]
  },
  {
   "cell_type": "markdown",
   "metadata": {
    "colab_type": "text",
    "id": "I188evsjOa18"
   },
   "source": [
    "### Q13. Comma Code \n",
    "Write a function that takes a list value as an argument and returns a string with all the items separated by a comma and a space, with and inserted before the last item.<br>\n",
    "For example, passing the previous spam list to the function would return <b>'apples, bananas, tofu, and cats'</b>. But your function should be able to work with any list value passed to it."
   ]
  },
  {
   "cell_type": "code",
   "execution_count": 1,
   "metadata": {
    "colab": {},
    "colab_type": "code",
    "id": "LcPg3QKxOa19",
    "outputId": "b8715105-e5e6-4525-b87d-9f805f3ae0e3"
   },
   "outputs": [
    {
     "data": {
      "text/plain": [
       "'apples, bananas, tofu, and cats'"
      ]
     },
     "execution_count": 1,
     "metadata": {},
     "output_type": "execute_result"
    }
   ],
   "source": [
    "spam = ['apples', 'bananas', 'tofu', 'cats']\n",
    "\n",
    "def comma_code(arr):\n",
    "    ## Your code here  \n",
    "    arr_str = ''\n",
    "    for i in range(len(arr)-1):\n",
    "        arr_str += arr[i]+', '\n",
    "    arr_str += 'and '+arr[-1] \n",
    "    return arr_str  \n",
    "\n",
    "comma_code(spam)"
   ]
  },
  {
   "cell_type": "markdown",
   "metadata": {
    "colab_type": "text",
    "id": "me1q2YNIOa2A"
   },
   "source": [
    "### Q14. Character Picture Grid \n",
    "\n",
    "You can think of grid[x][y] as being the character at the x- and y- coordinates of a “picture” drawn with text characters. The (0, 0) origin will be in the upper-left corner, the x-coordinates increase going right, and w the y-coordinates increase going down.<br>\n"
   ]
  },
  {
   "cell_type": "code",
   "execution_count": 6,
   "metadata": {
    "colab": {},
    "colab_type": "code",
    "id": "BbWweNNkOa2B",
    "outputId": "8d1571c9-cb0f-4a17-ae8c-82a14d5b1617"
   },
   "outputs": [
    {
     "name": "stdout",
     "output_type": "stream",
     "text": [
      "\n",
      "..OO.OO..\n",
      ".OOOOOOO.\n",
      ".OOOOOOO.\n",
      "..OOOOO..\n",
      "...OOO...\n",
      "....O....\n"
     ]
    },
    {
     "ename": "IndexError",
     "evalue": "list index out of range",
     "output_type": "error",
     "traceback": [
      "\u001b[1;31m---------------------------------------------------------------------------\u001b[0m",
      "\u001b[1;31mIndexError\u001b[0m                                Traceback (most recent call last)",
      "\u001b[1;32m<ipython-input-6-f3b74ca10913>\u001b[0m in \u001b[0;36m<module>\u001b[1;34m\u001b[0m\n\u001b[0;32m     16\u001b[0m     \u001b[0mprint\u001b[0m \u001b[1;33m(\u001b[0m\u001b[1;33m)\u001b[0m\u001b[1;33m\u001b[0m\u001b[1;33m\u001b[0m\u001b[0m\n\u001b[0;32m     17\u001b[0m     \u001b[1;32mfor\u001b[0m \u001b[0mrow\u001b[0m \u001b[1;32min\u001b[0m \u001b[0mrange\u001b[0m\u001b[1;33m(\u001b[0m\u001b[0mnum_rows\u001b[0m\u001b[1;33m)\u001b[0m\u001b[1;33m:\u001b[0m\u001b[1;33m\u001b[0m\u001b[1;33m\u001b[0m\u001b[0m\n\u001b[1;32m---> 18\u001b[1;33m         \u001b[0mprint\u001b[0m \u001b[1;33m(\u001b[0m\u001b[0mgrid\u001b[0m\u001b[1;33m[\u001b[0m\u001b[0mrow\u001b[0m\u001b[1;33m]\u001b[0m\u001b[1;33m[\u001b[0m\u001b[0mcol\u001b[0m\u001b[1;33m]\u001b[0m\u001b[1;33m,\u001b[0m \u001b[0mend\u001b[0m\u001b[1;33m=\u001b[0m\u001b[1;34m''\u001b[0m\u001b[1;33m)\u001b[0m\u001b[1;33m\u001b[0m\u001b[1;33m\u001b[0m\u001b[0m\n\u001b[0m",
      "\u001b[1;31mIndexError\u001b[0m: list index out of range"
     ]
    }
   ],
   "source": [
    "grid = [['.', '.', '.', '.', '.', '.'],       \n",
    "        ['.', 'O', 'O', '.', '.', '.'],        \n",
    "        ['O', 'O', 'O', 'O', '.', '.'],        \n",
    "        ['O', 'O', 'O', 'O', 'O', '.'],        \n",
    "        ['.', 'O', 'O', 'O', 'O', 'O'],        \n",
    "        ['O', 'O', 'O', 'O', 'O', '.'],        \n",
    "        ['O', 'O', 'O', 'O', '.', '.'],        \n",
    "        ['.', 'O', 'O', '.', '.', '.'],        \n",
    "        ['.', '.', '.', '.', '.', '.']]\n",
    "\n",
    "## Your code here\n",
    "num_rows = len(grid)    \n",
    "num_cols = len(grid[0])\n",
    "\n",
    "for col in range(num_cols):\n",
    "    print ()\n",
    "    for row in range(num_rows):\n",
    "        print (grid[row][col], end='')"
   ]
  },
  {
   "cell_type": "markdown",
   "metadata": {
    "colab_type": "text",
    "id": "h3p3fh9LOa2E"
   },
   "source": [
    "### Fantasy Game Inventory\n",
    "You are creating a fantasy video game. The data structure to model the player’s inventory will be a dictionary where the keys are string values describing the item in the inventory and the value is an integer value detailing how many of that item the player has. For example, the dictionary value <b>\n",
    "~~~ python\n",
    "{'rope': 1, 'torch': 6, 'gold coin': 42, 'dagger': 1, 'arrow': 12}\n",
    "~~~\n",
    "</b> means the player has <b>1 rope, 6 torches, 42 gold coins, and so on.</b> \n",
    "\n",
    "### Q15. displayInventory()\n",
    "Write a function named <b>displayInventory()</b>\n"
   ]
  },
  {
   "cell_type": "code",
   "execution_count": 0,
   "metadata": {
    "colab": {},
    "colab_type": "code",
    "id": "gFItc3ozOa2F",
    "outputId": "1c7eb837-39ff-4288-e24a-fa8973e408f5",
    "scrolled": true
   },
   "outputs": [
    {
     "name": "stdout",
     "output_type": "stream",
     "text": [
      "--------------------\n",
      "Inventory so far: \n",
      "--------------------\n",
      "1 rope\n",
      "6 torch\n",
      "42 gold coin\n",
      "1 dagger\n",
      "12 arrow\n",
      "Total number of items: 62\n"
     ]
    }
   ],
   "source": [
    "inven = {'rope': 1, 'torch': 6, 'gold coin': 42, 'dagger': 1, 'arrow': 12}\n",
    "\n",
    "def displayInventory(inventory_list):\n",
    "    ## Your code here\n",
    "    print (\"-\" * 20)\n",
    "    print (\"Inventory so far: \")\n",
    "    print (\"-\" * 20)\n",
    "    for keys,values in inventory_list.items():\n",
    "        print (values,keys)\n",
    "    print('Total number of items:',sum(inventory_list.values()))\n",
    "    \n",
    "displayInventory(inven)        "
   ]
  },
  {
   "cell_type": "markdown",
   "metadata": {
    "colab_type": "text",
    "id": "JcCWb-bROa2J"
   },
   "source": [
    "### Q16.  addToInventory(inventory, addedItems)\n",
    "Write a function named <b>addToInventory(inventory, addedItems)</b>, where the <b>inventory</b> parameter is a dictionary representing the player’s inventory (like in the previous project) and the <b>addedItems</b> parameter is a list like dragonLoot.<br> The <b>addToInventory()</b> function should return a dictionary that represents the updated inventory. <br><b>Note:</b> that the addedItems list can contain multiples of the same item.<br>"
   ]
  },
  {
   "cell_type": "code",
   "execution_count": 0,
   "metadata": {
    "colab": {},
    "colab_type": "code",
    "id": "pHQrzCujOa2K",
    "outputId": "54085cb5-30a1-40f2-ceab-da0850a60a67"
   },
   "outputs": [
    {
     "name": "stdout",
     "output_type": "stream",
     "text": [
      "--------------------\n",
      "Inventory so far: \n",
      "--------------------\n",
      "45 gold coin\n",
      "1 rope\n",
      "1 dagger\n",
      "1 ruby\n",
      "Total number of items: 48\n"
     ]
    }
   ],
   "source": [
    "def addToInventory(inventory, addedItems):    \n",
    "    ## Your code here\n",
    "    for i in addedItems:\n",
    "        if i in inventory.keys():\n",
    "            inventory[i] +=1 \n",
    "        else:\n",
    "            inventory[i]=1\n",
    "    return inventory\n",
    "\n",
    "inv = {'gold coin': 42, 'rope': 1} \n",
    "dragonLoot = ['gold coin', 'dagger', 'gold coin', 'gold coin', 'ruby'] \n",
    "inv = addToInventory(inv, dragonLoot) \n",
    "displayInventory(inv)"
   ]
  },
  {
   "cell_type": "markdown",
   "metadata": {
    "colab_type": "text",
    "id": "ggUVi05xOa2N"
   },
   "source": [
    "# Great job!"
   ]
  }
 ],
 "metadata": {
  "colab": {
   "name": "Python Exercises_Solution.ipynb",
   "provenance": [],
   "version": "0.3.2"
  },
  "kernelspec": {
   "display_name": "Python 3",
   "language": "python",
   "name": "python3"
  },
  "language_info": {
   "codemirror_mode": {
    "name": "ipython",
    "version": 3
   },
   "file_extension": ".py",
   "mimetype": "text/x-python",
   "name": "python",
   "nbconvert_exporter": "python",
   "pygments_lexer": "ipython3",
   "version": "3.7.1"
  }
 },
 "nbformat": 4,
 "nbformat_minor": 1
}
